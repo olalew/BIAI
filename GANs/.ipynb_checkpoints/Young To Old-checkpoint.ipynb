{
 "cells": [
  {
   "cell_type": "code",
   "execution_count": 1,
   "id": "a91c77fd",
   "metadata": {},
   "outputs": [
    {
     "name": "stdout",
     "output_type": "stream",
     "text": [
      "Collecting git+https://www.github.com/keras-team/keras-contrib.git\n",
      "  Cloning https://www.github.com/keras-team/keras-contrib.git to /tmp/pip-req-build-ctt5y9fs\n",
      "  Running command git clone --filter=blob:none --quiet https://www.github.com/keras-team/keras-contrib.git /tmp/pip-req-build-ctt5y9fs\n",
      "  warning: redirecting to https://github.com/keras-team/keras-contrib.git/\n",
      "  Resolved https://www.github.com/keras-team/keras-contrib.git to commit 3fc5ef709e061416f4bc8a92ca3750c824b5d2b0\n",
      "  Preparing metadata (setup.py) ... \u001b[?25ldone\n",
      "\u001b[?25hRequirement already satisfied: keras in ./venv/lib64/python3.11/site-packages (from keras-contrib==2.0.8) (2.12.0)\n"
     ]
    }
   ],
   "source": [
    "!pip install git+https://www.github.com/keras-team/keras-contrib.git"
   ]
  },
  {
   "cell_type": "code",
   "execution_count": 2,
   "id": "f6026da1",
   "metadata": {},
   "outputs": [
    {
     "name": "stdout",
     "output_type": "stream",
     "text": [
      "Requirement already satisfied: dataloader in ./venv/lib64/python3.11/site-packages (2.0)\r\n"
     ]
    }
   ],
   "source": [
    "!pip install dataloader"
   ]
  },
  {
   "cell_type": "code",
   "execution_count": 3,
   "id": "3a65cf04",
   "metadata": {},
   "outputs": [
    {
     "name": "stdout",
     "output_type": "stream",
     "text": [
      "Requirement already satisfied: imageio in ./venv/lib64/python3.11/site-packages (2.29.0)\r\n",
      "Requirement already satisfied: numpy in ./venv/lib64/python3.11/site-packages (from imageio) (1.23.5)\r\n",
      "Requirement already satisfied: pillow>=8.3.2 in ./venv/lib64/python3.11/site-packages (from imageio) (9.5.0)\r\n"
     ]
    }
   ],
   "source": [
    "!pip install imageio"
   ]
  },
  {
   "cell_type": "code",
   "execution_count": 4,
   "id": "60284ec9",
   "metadata": {},
   "outputs": [
    {
     "name": "stdout",
     "output_type": "stream",
     "text": [
      "Requirement already satisfied: matplotlib in ./venv/lib64/python3.11/site-packages (3.7.1)\n",
      "Requirement already satisfied: contourpy>=1.0.1 in ./venv/lib64/python3.11/site-packages (from matplotlib) (1.0.7)\n",
      "Requirement already satisfied: cycler>=0.10 in ./venv/lib64/python3.11/site-packages (from matplotlib) (0.11.0)\n",
      "Requirement already satisfied: fonttools>=4.22.0 in ./venv/lib64/python3.11/site-packages (from matplotlib) (4.39.4)\n",
      "Requirement already satisfied: kiwisolver>=1.0.1 in ./venv/lib64/python3.11/site-packages (from matplotlib) (1.4.4)\n",
      "Requirement already satisfied: numpy>=1.20 in ./venv/lib64/python3.11/site-packages (from matplotlib) (1.23.5)\n",
      "Requirement already satisfied: packaging>=20.0 in ./venv/lib64/python3.11/site-packages (from matplotlib) (23.1)\n",
      "Requirement already satisfied: pillow>=6.2.0 in ./venv/lib64/python3.11/site-packages (from matplotlib) (9.5.0)\n",
      "Requirement already satisfied: pyparsing>=2.3.1 in ./venv/lib64/python3.11/site-packages (from matplotlib) (3.0.9)\n",
      "Requirement already satisfied: python-dateutil>=2.7 in ./venv/lib64/python3.11/site-packages (from matplotlib) (2.8.2)\n",
      "Requirement already satisfied: six>=1.5 in ./venv/lib64/python3.11/site-packages (from python-dateutil>=2.7->matplotlib) (1.16.0)\n",
      "Requirement already satisfied: scipy in ./venv/lib64/python3.11/site-packages (1.10.1)\n",
      "Requirement already satisfied: numpy<1.27.0,>=1.19.5 in ./venv/lib64/python3.11/site-packages (from scipy) (1.23.5)\n",
      "Collecting skimage\n",
      "  Using cached skimage-0.0.tar.gz (757 bytes)\n",
      "  Preparing metadata (setup.py) ... \u001b[?25lerror\n",
      "  \u001b[1;31merror\u001b[0m: \u001b[1msubprocess-exited-with-error\u001b[0m\n",
      "  \n",
      "  \u001b[31m×\u001b[0m \u001b[32mpython setup.py egg_info\u001b[0m did not run successfully.\n",
      "  \u001b[31m│\u001b[0m exit code: \u001b[1;36m1\u001b[0m\n",
      "  \u001b[31m╰─>\u001b[0m \u001b[31m[3 lines of output]\u001b[0m\n",
      "  \u001b[31m   \u001b[0m \n",
      "  \u001b[31m   \u001b[0m *** Please install the `scikit-image` package (instead of `skimage`) ***\n",
      "  \u001b[31m   \u001b[0m \n",
      "  \u001b[31m   \u001b[0m \u001b[31m[end of output]\u001b[0m\n",
      "  \n",
      "  \u001b[1;35mnote\u001b[0m: This error originates from a subprocess, and is likely not a problem with pip.\n",
      "\u001b[1;31merror\u001b[0m: \u001b[1mmetadata-generation-failed\u001b[0m\n",
      "\n",
      "\u001b[31m×\u001b[0m Encountered error while generating package metadata.\n",
      "\u001b[31m╰─>\u001b[0m See above for output.\n",
      "\n",
      "\u001b[1;35mnote\u001b[0m: This is an issue with the package mentioned above, not pip.\n",
      "\u001b[1;36mhint\u001b[0m: See above for details.\n",
      "\u001b[?25h"
     ]
    }
   ],
   "source": [
    "!pip install matplotlib\n",
    "!pip install scipy\n",
    "!pip install skimage"
   ]
  },
  {
   "cell_type": "markdown",
   "id": "4a690cb1",
   "metadata": {},
   "source": [
    "## Play with paths"
   ]
  },
  {
   "cell_type": "code",
   "execution_count": 5,
   "id": "9b7acf6b",
   "metadata": {},
   "outputs": [],
   "source": [
    "import glob"
   ]
  },
  {
   "cell_type": "code",
   "execution_count": 25,
   "id": "829f7ba5",
   "metadata": {},
   "outputs": [
    {
     "name": "stdout",
     "output_type": "stream",
     "text": [
      "['./datasets/youngOld/50_cent', './datasets/youngOld/aaliyah', './datasets/youngOld/aaron_paul', './datasets/youngOld/abigail_breslin', './datasets/youngOld/adam_levine', './datasets/youngOld/adam_sandler', './datasets/youngOld/adele', './datasets/youngOld/adolf_hitler', './datasets/youngOld/adriana_lima', './datasets/youngOld/adriano_pantaleo', './datasets/youngOld/agniya_ditkovskite', './datasets/youngOld/agyness_deyn', './datasets/youngOld/aidan_gillen', './datasets/youngOld/alain_delon', './datasets/youngOld/alain_vodonaeva', './datasets/youngOld/alanna_masterson', './datasets/youngOld/alan_rickman', './datasets/youngOld/albert_einstein', './datasets/youngOld/alberto_gilardino', './datasets/youngOld/alec_guinness', './datasets/youngOld/alejandro_bedoya', './datasets/youngOld/alessandra_ambrosio', './datasets/youngOld/alessandro_del_piero', './datasets/youngOld/alessandro_nesta', './datasets/youngOld/alessia_marcuzzi', './datasets/youngOld/alexa_chung', './datasets/youngOld/alexander_cekalo', './datasets/youngOld/alexander_domogarov', './datasets/youngOld/alexander_kerzhakov', './datasets/youngOld/alexander_nezlobin', './datasets/youngOld/alexander_revva', './datasets/youngOld/alexander_rybak', './datasets/youngOld/alexa_penvega', './datasets/youngOld/alex_d_linz', './datasets/youngOld/alexei_chadov', './datasets/youngOld/alexei_navalny', './datasets/youngOld/alexei_panin', './datasets/youngOld/alexis_bledel', './datasets/youngOld/alfonso_ribeiro', './datasets/youngOld/alfred_hitchcook', './datasets/youngOld/alice_cooper', './datasets/youngOld/alicia_keys', './datasets/youngOld/alicia_silverstone', './datasets/youngOld/alina_kabaeva', './datasets/youngOld/aline_weber', './datasets/youngOld/alison_stone', './datasets/youngOld/alla_pugacheva', './datasets/youngOld/al_pacino', './datasets/youngOld/alyson_hannigan', './datasets/youngOld/alyssa_milano', './datasets/youngOld/alyssa_miller', './datasets/youngOld/amanda_seyfried', './datasets/youngOld/amber_tamblyn', './datasets/youngOld/amy_lee', './datasets/youngOld/amy_poehler', './datasets/youngOld/amy_winehouse', './datasets/youngOld/ana_beatriz_barros', './datasets/youngOld/anastasia_slanevskaya', './datasets/youngOld/anastasia_zavorotnyuk', './datasets/youngOld/anatoly_chubais', './datasets/youngOld/andrea_balestri', './datasets/youngOld/andrea_casiraghi', './datasets/youngOld/andre_agassi', './datasets/youngOld/andrea_pirlo', './datasets/youngOld/andrei_krasko', './datasets/youngOld/andrei_makarevich', './datasets/youngOld/andrei_malakhov', './datasets/youngOld/andrei_panin', './datasets/youngOld/andrew_fedortsov', './datasets/youngOld/andrew_garfield', './datasets/youngOld/andrew_lincoln', './datasets/youngOld/andrew_ridgeley', './datasets/youngOld/andrew_scott', './datasets/youngOld/andrij_schevchenko', './datasets/youngOld/andy_san_dimas', './datasets/youngOld/anfisa_chekhova', './datasets/youngOld/angele_lindvall', './datasets/youngOld/angelina_jolie', './datasets/youngOld/anja_rubik', './datasets/youngOld/anjelica_huston', './datasets/youngOld/anna_chlumsky', './datasets/youngOld/anna_kournikova', './datasets/youngOld/anna_paquin', './datasets/youngOld/anna_selezneva', './datasets/youngOld/anna_semenovich', './datasets/youngOld/anne_hathaway', './datasets/youngOld/annette_charles', './datasets/youngOld/anne_vyalitsyna', './datasets/youngOld/anthony_hopkins', './datasets/youngOld/antonio_banderas', './datasets/youngOld/antonio_cassano', './datasets/youngOld/ariana_richards', './datasets/youngOld/arizona_muse', './datasets/youngOld/arnold_schwarzenegger', './datasets/youngOld/aron_johannsson', './datasets/youngOld/arthur_smoljaninov', './datasets/youngOld/asa_butterfield', './datasets/youngOld/ashley_benson', './datasets/youngOld/ashli_orion', './datasets/youngOld/ashton_kutcher', './datasets/youngOld/asia_carrera', './datasets/youngOld/audrey_hepburn', './datasets/youngOld/avril_lavigne', './datasets/youngOld/axl_rose', './datasets/youngOld/aymeline_valade', './datasets/youngOld/ayrton_senna', './datasets/youngOld/barack_obama', './datasets/youngOld/barbara_d_urso', './datasets/youngOld/barbara_eden', './datasets/youngOld/barbara_fialho', './datasets/youngOld/barbra_streisand', './datasets/youngOld/bar_rafaeli', './datasets/youngOld/barry_pearl', './datasets/youngOld/behati_prinsloo', './datasets/youngOld/belen_rodriguez', './datasets/youngOld/belladonna', './datasets/youngOld/ben_affleck', './datasets/youngOld/benedict_cumberbatch', './datasets/youngOld/ben_stiller', './datasets/youngOld/bette_franke', './datasets/youngOld/beyonce_knowles', './datasets/youngOld/bianca_balti', './datasets/youngOld/big_sean', './datasets/youngOld/bill_clinton', './datasets/youngOld/bill_gates', './datasets/youngOld/billie_joe_armstrong', './datasets/youngOld/bill_murray', './datasets/youngOld/billy_bob_thornton', './datasets/youngOld/billy_dee_williams', './datasets/youngOld/bingbing_fan', './datasets/youngOld/bjork', './datasets/youngOld/blake_lively', './datasets/youngOld/blanca_padilla', './datasets/youngOld/bob_marley', './datasets/youngOld/bob_odenkirk', './datasets/youngOld/bo_derek', './datasets/youngOld/bonnie_wright', './datasets/youngOld/bono', './datasets/youngOld/boris_eltsin', './datasets/youngOld/bow_wow', './datasets/youngOld/bradley_cooper', './datasets/youngOld/brad_pitt', './datasets/youngOld/bree_olson', './datasets/youngOld/bregje_heinen', './datasets/youngOld/brenda_asnicar', './datasets/youngOld/brian_bonsall', './datasets/youngOld/brigitte_bardot', './datasets/youngOld/brigitte_nielsen', './datasets/youngOld/britney_spears', './datasets/youngOld/brittany_murphy', './datasets/youngOld/brooke_shields', './datasets/youngOld/bruce_dickinson', './datasets/youngOld/bruce_lee', './datasets/youngOld/bruce_springsteen', './datasets/youngOld/bruce_willis', './datasets/youngOld/bruno_mars', './datasets/youngOld/bryan_cranston', './datasets/youngOld/burt_rreynolds', './datasets/youngOld/calista_flockhart', './datasets/youngOld/cameron_diaz', './datasets/youngOld/camille_rowe', './datasets/youngOld/candace_cameron', './datasets/youngOld/candice_swanepoel', './datasets/youngOld/carla_bruni', './datasets/youngOld/carlos_moya', './datasets/youngOld/carmelo_anthony', './datasets/youngOld/carol_alt', './datasets/youngOld/carolyn_murphy', './datasets/youngOld/carre_otis', './datasets/youngOld/carrie_fisher', './datasets/youngOld/carrie_henn', './datasets/youngOld/casey_affleck', './datasets/youngOld/casey_stoner', './datasets/youngOld/catherine_back', './datasets/youngOld/catherine_mcneil', './datasets/youngOld/catherine_zeta_jones', './datasets/youngOld/cathy_pryce', './datasets/youngOld/celine_dion', './datasets/youngOld/chad_lindberg', './datasets/youngOld/chad_lowe', './datasets/youngOld/chandler_riggs', './datasets/youngOld/chanel_iman', './datasets/youngOld/channing_tatum', './datasets/youngOld/charles_chaplin', './datasets/youngOld/charles_dance', './datasets/youngOld/charlie_sheen', './datasets/youngOld/charlie_watts', './datasets/youngOld/charlize_theron', './datasets/youngOld/charlotte_casiraghi', './datasets/youngOld/charlotte_free', './datasets/youngOld/charlotte_rampling', './datasets/youngOld/chauncey_billups', './datasets/youngOld/chelsea_handler', './datasets/youngOld/cher', './datasets/youngOld/chester_bennington', './datasets/youngOld/chloe_grace_moretz', './datasets/youngOld/chris_evans', './datasets/youngOld/chris_hemsworth', './datasets/youngOld/christian_bale', './datasets/youngOld/christina_aguilera', './datasets/youngOld/christina_ricci', './datasets/youngOld/christopher_atkins', './datasets/youngOld/christopher_lee', './datasets/youngOld/christopher_lloyd', './datasets/youngOld/christopher_nolan', './datasets/youngOld/christopher_walken', './datasets/youngOld/christoph_waltz', './datasets/youngOld/christy_turlington', './datasets/youngOld/chuck_norris', './datasets/youngOld/cindy_crawford', './datasets/youngOld/claudia_schiffer', './datasets/youngOld/claudio_marchisio', './datasets/youngOld/clint_eastwood', './datasets/youngOld/cobie_smulders', './datasets/youngOld/colin_farrell', './datasets/youngOld/constance_jablonski', './datasets/youngOld/courtney_cox', './datasets/youngOld/courtney_love', './datasets/youngOld/cristiano_ronaldo', './datasets/youngOld/cristian_vieri', './datasets/youngOld/cuba_gooding_jr', './datasets/youngOld/cybill_sheperd', './datasets/youngOld/dakota_fanning', './datasets/youngOld/dalma_callado', './datasets/youngOld/dana_dearmond', './datasets/youngOld/danica_mckellar', './datasets/youngOld/daniel_craig', './datasets/youngOld/daniele_de_rossi', './datasets/youngOld/danielle_fishel', './datasets/youngOld/daniel_radcliffe', './datasets/youngOld/danila_kozlovsky', './datasets/youngOld/danny_devito', './datasets/youngOld/daria_strokous', './datasets/youngOld/daryl_hannah', './datasets/youngOld/daryl_sabara', './datasets/youngOld/daveigh_chase', './datasets/youngOld/david_beckham', './datasets/youngOld/david_bowie', './datasets/youngOld/david_duchovny', './datasets/youngOld/david_ferrer', './datasets/youngOld/david_fincher', './datasets/youngOld/david_henrie', './datasets/youngOld/david_lynch', './datasets/youngOld/david_schwimmer', './datasets/youngOld/david_soul', './datasets/youngOld/deandre_yedlin', './datasets/youngOld/dean_norris', './datasets/youngOld/debra_messing', './datasets/youngOld/delta_goodrem', './datasets/youngOld/demi_moore', './datasets/youngOld/demis_caribbean', './datasets/youngOld/denise_richards', './datasets/youngOld/denzel_washington', './datasets/youngOld/devin_ratray', './datasets/youngOld/devon_windsor', './datasets/youngOld/diamond_foxxx', './datasets/youngOld/diane_kruger', './datasets/youngOld/dick_van_patten', './datasets/youngOld/diego_armando_maradona', './datasets/youngOld/dima_bilan', './datasets/youngOld/dinah_manoff', './datasets/youngOld/dita_von_teese', './datasets/youngOld/dmitry_kharatyan', './datasets/youngOld/dmitry_medvedev', './datasets/youngOld/dolly_parton', './datasets/youngOld/dolph_lundgren', './datasets/youngOld/dominic_monaghan', './datasets/youngOld/donald_faison', './datasets/youngOld/donatella_versace', './datasets/youngOld/doutzen_kroes', './datasets/youngOld/drake', './datasets/youngOld/dr_dre', './datasets/youngOld/dree_hemingway', './datasets/youngOld/drew_barrymore', './datasets/youngOld/dustin_diamond', './datasets/youngOld/dustin_hoffman', './datasets/youngOld/dwayne_johnson', './datasets/youngOld/dwyana_wade', './datasets/youngOld/eddie_deezen', './datasets/youngOld/eddie_lizzard', './datasets/youngOld/eddie_murphy', './datasets/youngOld/ed_helms', './datasets/youngOld/edith_piaf', './datasets/youngOld/edward_furlong', './datasets/youngOld/edward_james_olmos', './datasets/youngOld/edward_norton', './datasets/youngOld/elena_berkova', './datasets/youngOld/elena_koricova', './datasets/youngOld/elena_santarelli', './datasets/youngOld/elena_yakovleva', './datasets/youngOld/elijah_wood', './datasets/youngOld/elio_germano', './datasets/youngOld/elisabeth_hasselbeck', './datasets/youngOld/elisabetta_canalis', './datasets/youngOld/elizabeth_banks', './datasets/youngOld/elizabeth_mitchell', './datasets/youngOld/elizabeth_shannon', './datasets/youngOld/elizabeth_shue', './datasets/youngOld/eliza_dushku', './datasets/youngOld/elle_macpherson', './datasets/youngOld/ellen_burstyn', './datasets/youngOld/ellen_degeneres', './datasets/youngOld/ellen_page', './datasets/youngOld/elton_john', './datasets/youngOld/elvis_presley', './datasets/youngOld/emilie_de_ravin', './datasets/youngOld/emily_ratajkowski', './datasets/youngOld/eminem', './datasets/youngOld/emmanuelle_chirqui', './datasets/youngOld/emma_roberts', './datasets/youngOld/emma_stone', './datasets/youngOld/emma_watson', './datasets/youngOld/eniko_mihalik', './datasets/youngOld/erik_estrada', './datasets/youngOld/ernesto_che_guevara', './datasets/youngOld/eros_ramazzotti', './datasets/youngOld/ethan_hawek', './datasets/youngOld/eugene_grishkovec', './datasets/youngOld/eva_herzigova', './datasets/youngOld/eva_longoria', './datasets/youngOld/eva_mendes', './datasets/youngOld/evangeline_lilly', './datasets/youngOld/evan_peters', './datasets/youngOld/evelyn_bledans', './datasets/youngOld/evgeni_plushenko', './datasets/youngOld/ewan_mcgregor', './datasets/youngOld/exhibit', './datasets/youngOld/fabio_cannavaro', './datasets/youngOld/farrah_fawcett', './datasets/youngOld/federica_moro', './datasets/youngOld/fedor_dobronravov', './datasets/youngOld/fedor_emelianenko', './datasets/youngOld/fei_fei_sun', './datasets/youngOld/felix_kjellberg_(pewdiepie)', './datasets/youngOld/fergie', './datasets/youngOld/fernando_torres', './datasets/youngOld/fernando_verdasco', './datasets/youngOld/filippa_lagerback', './datasets/youngOld/filipp_kirkorov', './datasets/youngOld/francesco_totti', './datasets/youngOld/francis_ford_coppola', './datasets/youngOld/fran_drescher', './datasets/youngOld/frankie_muniz', './datasets/youngOld/freddie_highmore', './datasets/youngOld/freddie_mercury', './datasets/youngOld/fred_savage', './datasets/youngOld/fyodor_bondarchuk', './datasets/youngOld/gabrielle_carteris', './datasets/youngOld/garik_kharlamov', './datasets/youngOld/garik_martirosyan', './datasets/youngOld/gary_coleman', './datasets/youngOld/gary_oldman', './datasets/youngOld/gavin_macleod', './datasets/youngOld/gene_simmons', './datasets/youngOld/genevieve_padalecki', './datasets/youngOld/george_clooney', './datasets/youngOld/george_h_w_bush', './datasets/youngOld/george_lucas', './datasets/youngOld/george_michael', './datasets/youngOld/george_w_bush', './datasets/youngOld/georgia_may_jagger', './datasets/youngOld/giancarlo_esposito', './datasets/youngOld/gigi_buffon', './datasets/youngOld/gillian_anderson', './datasets/youngOld/ginta_lapina', './datasets/youngOld/giorgio_cantarini', './datasets/youngOld/giovanni_ribisi', './datasets/youngOld/gisele_bundchen', './datasets/youngOld/gosha_kutsenko', './datasets/youngOld/graham_zusi', './datasets/youngOld/guf', './datasets/youngOld/gwen_stefani', './datasets/youngOld/gwyneth_paltrow', './datasets/youngOld/haley_joel_osment', './datasets/youngOld/halle_berry', './datasets/youngOld/harrison_ford', './datasets/youngOld/harry_styles', './datasets/youngOld/hayden_christensen', './datasets/youngOld/hayden_panettiere', './datasets/youngOld/hayley_williams', './datasets/youngOld/heather_locklear', './datasets/youngOld/heath_ledger', './datasets/youngOld/heidi_klum', './datasets/youngOld/heidi_montag', './datasets/youngOld/helena_bonham_carter', './datasets/youngOld/helena_christensen', './datasets/youngOld/helen_hunt', './datasets/youngOld/henry_ian_cusick', './datasets/youngOld/henry_winkler', './datasets/youngOld/hilary_duff', './datasets/youngOld/holly_marie_combs', './datasets/youngOld/hugh_dancy', './datasets/youngOld/hugh_jackman', './datasets/youngOld/hugh_laurie', './datasets/youngOld/hulk_hogan', './datasets/youngOld/iain_glen', './datasets/youngOld/ian_harding', './datasets/youngOld/ian_mcdiarmid', './datasets/youngOld/ian_mckellen', './datasets/youngOld/ian_somerhalder', './datasets/youngOld/ice_cube', './datasets/youngOld/ieva_laguna', './datasets/youngOld/iggy_pop', './datasets/youngOld/igor_petrenko', './datasets/youngOld/iker_casillas', './datasets/youngOld/ilary_blasi', './datasets/youngOld/iman', './datasets/youngOld/ines_de_la_fressange', './datasets/youngOld/inger_nilsson', './datasets/youngOld/iris_strubegger', './datasets/youngOld/isabeli_fontana', './datasets/youngOld/iselin_steiro', './datasets/youngOld/ivan_ohlobystin', './datasets/youngOld/ivan_urgant', './datasets/youngOld/izabel_goulart', './datasets/youngOld/jack_black', './datasets/youngOld/jack_gleeson', './datasets/youngOld/jackie_chan', './datasets/youngOld/jack_nicholson', './datasets/youngOld/jaclyn_smith', './datasets/youngOld/jaimee_foxworth', './datasets/youngOld/jake_gyllenhaal', './datasets/youngOld/jake_lloyd', './datasets/youngOld/jaleel_white', './datasets/youngOld/james_cameron', './datasets/youngOld/james_carter', './datasets/youngOld/james_franco', './datasets/youngOld/james_hetfield', './datasets/youngOld/jamie_bell', './datasets/youngOld/jamie_donnelly', './datasets/youngOld/jamie_foxx', './datasets/youngOld/jamie_lee_curtis', './datasets/youngOld/jane_fonda', './datasets/youngOld/janet_jackson', './datasets/youngOld/janice_dickinson', './datasets/youngOld/janko_tipsarevic', './datasets/youngOld/jan_tsapnik', './datasets/youngOld/january_jones', './datasets/youngOld/jared_leto', './datasets/youngOld/jared_padalecki', './datasets/youngOld/jasmine_tookes', './datasets/youngOld/jason_bateman', './datasets/youngOld/jason_biggs', './datasets/youngOld/jason_momoa', './datasets/youngOld/jason_priestley', './datasets/youngOld/jason_segel', './datasets/youngOld/jason_statham', './datasets/youngOld/jay_z', './datasets/youngOld/jean_claude_van_damme', './datasets/youngOld/jean_reno', './datasets/youngOld/jeff_cohen', './datasets/youngOld/jeff_conaway', './datasets/youngOld/jeffrey_dean_morgan', './datasets/youngOld/jenna_jameson', './datasets/youngOld/jenna_von_oy', './datasets/youngOld/jennie_garth', './datasets/youngOld/jennifer_aniston', './datasets/youngOld/jennifer_carpenter', './datasets/youngOld/jennifer_connelly', './datasets/youngOld/jennifer_garner', './datasets/youngOld/jennifer_lawrence', './datasets/youngOld/jennifer_lopez', './datasets/youngOld/jennifer_love_hewitt', './datasets/youngOld/jennifer_morrison', './datasets/youngOld/jenny_lewis', './datasets/youngOld/jenny_mccarthy', './datasets/youngOld/jensen_ackles', './datasets/youngOld/jeremy_piven', './datasets/youngOld/jeremy_renner', './datasets/youngOld/jerry_hall', './datasets/youngOld/jerry_oconnell', './datasets/youngOld/jesse_eisenberg', './datasets/youngOld/jesse_jane', './datasets/youngOld/jesse_plemons', './datasets/youngOld/jesse_spencer', './datasets/youngOld/jessica_alba', './datasets/youngOld/jessica_biel', './datasets/youngOld/jessica_chastain', './datasets/youngOld/jessica_jaymes', './datasets/youngOld/jessica_simpson', './datasets/youngOld/jessie_j', './datasets/youngOld/jesy_nelson', './datasets/youngOld/jet_li', './datasets/youngOld/jim_beaver', './datasets/youngOld/jim_carrey', './datasets/youngOld/jimmy_smits', './datasets/youngOld/jimmy_workman', './datasets/youngOld/jim_parsons', './datasets/youngOld/j_j_abrams', './datasets/youngOld/joan_smalls', './datasets/youngOld/joaquin_phoenix', './datasets/youngOld/jodie_foster', './datasets/youngOld/jodie_sweetin', './datasets/youngOld/joe_dassin', './datasets/youngOld/john_bon_jovi', './datasets/youngOld/john_connor', './datasets/youngOld/john_kennedy', './datasets/youngOld/john_lennon', './datasets/youngOld/john_lithgow', './datasets/youngOld/johnny_cash', './datasets/youngOld/johnny_depp', './datasets/youngOld/johnny_galecki', './datasets/youngOld/johnny_knoxville', './datasets/youngOld/johnny_rotten', './datasets/youngOld/john_stamos', './datasets/youngOld/john_travolta', './datasets/youngOld/jonah_hill', './datasets/youngOld/jonathan_banks', './datasets/youngOld/jonathan-lipnicki', './datasets/youngOld/jon_bernthal', './datasets/youngOld/jordana_brewster', './datasets/youngOld/jose_mourinho', './datasets/youngOld/joseph_gilgun', './datasets/youngOld/joseph_gordon_levitt', './datasets/youngOld/joseph_stalin', './datasets/youngOld/josh_duhamel', './datasets/youngOld/josh_hartnett', './datasets/youngOld/josh_holloway', './datasets/youngOld/josh_hutcherson', './datasets/youngOld/josh_radnor', './datasets/youngOld/jourdan_dunn', './datasets/youngOld/jude_law', './datasets/youngOld/judi_dench', './datasets/youngOld/juelz_ventura', './datasets/youngOld/julianne_moore', './datasets/youngOld/julia_roberts', './datasets/youngOld/julia_savicheva', './datasets/youngOld/julia_stegner', './datasets/youngOld/julia_stiles', './datasets/youngOld/julie_benz', './datasets/youngOld/justin_bieber', './datasets/youngOld/justin_timberlake', './datasets/youngOld/kaati_nescher', './datasets/youngOld/kabir_bedi', './datasets/youngOld/kaka', './datasets/youngOld/kaley_cuoco_sweeting', './datasets/youngOld/kanye_west', './datasets/youngOld/karen_mulder', './datasets/youngOld/karina_mishulina', './datasets/youngOld/karlie_kloss', './datasets/youngOld/kasia_struss', './datasets/youngOld/kate_beckinsale', './datasets/youngOld/kate_bush', './datasets/youngOld/kate_hudson', './datasets/youngOld/kate_jackson', './datasets/youngOld/kate_maberly', './datasets/youngOld/kate_middleton', './datasets/youngOld/kate_moss', './datasets/youngOld/kate_winslet', './datasets/youngOld/katherine_heigl', './datasets/youngOld/kathleen_turne', './datasets/youngOld/kathleen_turner', './datasets/youngOld/kathy_ireland', './datasets/youngOld/katie_cassidy', './datasets/youngOld/katie_holmes', './datasets/youngOld/katy_perry', './datasets/youngOld/kaya_scodelario', './datasets/youngOld/keanu_reeves', './datasets/youngOld/keegan_allen', './datasets/youngOld/keiko_kitagawa', './datasets/youngOld/keira_knightley', './datasets/youngOld/keith_richards', './datasets/youngOld/kellan_lutz', './datasets/youngOld/kelly_brook', './datasets/youngOld/kelly_clarkson', './datasets/youngOld/kelly_gale', './datasets/youngOld/kelly_lebrock', './datasets/youngOld/kelly_ward', './datasets/youngOld/keshia_knight_pulliam', './datasets/youngOld/kevin_bacon', './datasets/youngOld/kevin_smith', './datasets/youngOld/kid_cudi', './datasets/youngOld/kim_basinger', './datasets/youngOld/kim_kardashian', './datasets/youngOld/kirsten_dunst', './datasets/youngOld/kirstie_allen', './datasets/youngOld/kit_harington', './datasets/youngOld/konstantin_chabenskij', './datasets/youngOld/kristen_stewart', './datasets/youngOld/kristina_orbakajte', './datasets/youngOld/kristin_davis', './datasets/youngOld/kseniya_sobchak', './datasets/youngOld/kunal_nayyar', './datasets/youngOld/kurt_cobain', './datasets/youngOld/kurt_russell', './datasets/youngOld/kyle_beckerman', './datasets/youngOld/kylie_minogue', './datasets/youngOld/lady_gaga', './datasets/youngOld/laetitia_casta', './datasets/youngOld/larry_wilcox', './datasets/youngOld/laurence_fishburne', './datasets/youngOld/lauren_cohan', './datasets/youngOld/lauren_tewes', './datasets/youngOld/lauren_velez', './datasets/youngOld/lee_majors', './datasets/youngOld/lena_headey', './datasets/youngOld/leo_messi', './datasets/youngOld/leonard_nimoy', './datasets/youngOld/leonardo_dicaprio', './datasets/youngOld/leonid_gaidai', './datasets/youngOld/lewis_hamilton', './datasets/youngOld/liam_gallagher', './datasets/youngOld/liam_hemsworth', './datasets/youngOld/liam_neeson', './datasets/youngOld/lil_jon', './datasets/youngOld/lil_wayne', './datasets/youngOld/lily_aldridge', './datasets/youngOld/lily_donaldson', './datasets/youngOld/linda_blair', './datasets/youngOld/linda_evangelista', './datasets/youngOld/linda_gray', './datasets/youngOld/linda_hamilton', './datasets/youngOld/lindsay_ellingson', './datasets/youngOld/lindsay_lohan', './datasets/youngOld/lindsay_wagner', './datasets/youngOld/lisa_edelstein', './datasets/youngOld/lisa_kudrow', './datasets/youngOld/liu_wen', './datasets/youngOld/liv_tyler', './datasets/youngOld/liz_hurley', './datasets/youngOld/liz_taylor', './datasets/youngOld/lorenzo_cherubini', './datasets/youngOld/lorenzo_insigne', './datasets/youngOld/lorenzo_lamas', './datasets/youngOld/lori_petty', './datasets/youngOld/lou_ferrigno', './datasets/youngOld/lucas_black', './datasets/youngOld/lucy_hale', './datasets/youngOld/lucy_lawless', './datasets/youngOld/lucy_liu', './datasets/youngOld/ludacris', './datasets/youngOld/lyme_vajkule', './datasets/youngOld/lynda_carter', './datasets/youngOld/lyndsy_fonseca', './datasets/youngOld/macaulay_culkin', './datasets/youngOld/mackenzie_rosman', './datasets/youngOld/maddalena_corvaglia', './datasets/youngOld/madeline_zima', './datasets/youngOld/madonna', './datasets/youngOld/mads_mikkelsen', './datasets/youngOld/magdalena_frackowiak', './datasets/youngOld/maggie_grace', './datasets/youngOld/maggie_gyllenhaal', './datasets/youngOld/mahatma_gandhi', './datasets/youngOld/maisie_williams', './datasets/youngOld/malcom_david_kelley', './datasets/youngOld/malron_brando', './datasets/youngOld/mandy_moore', './datasets/youngOld/marat_safin', './datasets/youngOld/mara_wilson', './datasets/youngOld/marcos_baghdatis', './datasets/youngOld/marcy_walker', './datasets/youngOld/mariah_carrey', './datasets/youngOld/maria_poroshina', './datasets/youngOld/marilyn_manson', './datasets/youngOld/marilyn_monroe', './datasets/youngOld/mario_balotelli', './datasets/youngOld/mario_casas', './datasets/youngOld/mario_lopez', './datasets/youngOld/mariya_kozhevnikova', './datasets/youngOld/mark_addy', './datasets/youngOld/mark_gatiss', './datasets/youngOld/mark_hamill', './datasets/youngOld/mark_pellegrino', './datasets/youngOld/mark_rendall', './datasets/youngOld/mark_ruffalo', './datasets/youngOld/mark_sheppard', './datasets/youngOld/mark_wahlberg', './datasets/youngOld/mark_wright', './datasets/youngOld/mark_zuckerberg', './datasets/youngOld/martin_freeman', './datasets/youngOld/mary-kate_&_ashley_olsen', './datasets/youngOld/matt_damon', './datasets/youngOld/matthew_fox', './datasets/youngOld/matthew_lawrence', './datasets/youngOld/matthew_lewis', './datasets/youngOld/matthew_mcconaughey', './datasets/youngOld/matthew_perry', './datasets/youngOld/matt_leblanc', './datasets/youngOld/matt_o_leary', './datasets/youngOld/maud_welzen', './datasets/youngOld/maxim_averin', './datasets/youngOld/maxim_galkin', './datasets/youngOld/mayim_bialik', './datasets/youngOld/meat_loaf', './datasets/youngOld/megan_fox', './datasets/youngOld/mel_gibson', './datasets/youngOld/melissa_gilbert', './datasets/youngOld/melissa_rauch', './datasets/youngOld/melissa_satta', './datasets/youngOld/meryl_streep', './datasets/youngOld/michael_ballack', './datasets/youngOld/michael_caine', './datasets/youngOld/michael_cera', './datasets/youngOld/michael_c_hall', './datasets/youngOld/michael_douglas', './datasets/youngOld/michael_emerson', './datasets/youngOld/michael_fassbender', './datasets/youngOld/michael_jackson', './datasets/youngOld/michael_j_fox', './datasets/youngOld/michael_jordan', './datasets/youngOld/michael_oliver', './datasets/youngOld/michael_philip_jagger', './datasets/youngOld/michael_pitt', './datasets/youngOld/michael_porechenkov', './datasets/youngOld/michael_schumacher', './datasets/youngOld/michael_tucci', './datasets/youngOld/michail_bojarskij', './datasets/youngOld/michelle_fairley', './datasets/youngOld/michelle_obama', './datasets/youngOld/michelle_pfeiffer', './datasets/youngOld/michelle_rodriguez', './datasets/youngOld/michelle_trachtenberg', './datasets/youngOld/mickey_rourke', './datasets/youngOld/mike_shinoda', './datasets/youngOld/mike_tyson', './datasets/youngOld/mikhail_galustyan', './datasets/youngOld/mikhail_gorbachev', './datasets/youngOld/mikhail_prokhorov', './datasets/youngOld/mila_kunis', './datasets/youngOld/miley_cyrus', './datasets/youngOld/milla_jovovich', './datasets/youngOld/miranda_cosgrove', './datasets/youngOld/miranda_horz', './datasets/youngOld/miranda_kerr', './datasets/youngOld/misha_barton', './datasets/youngOld/misha_collins', './datasets/youngOld/molly_mccarthy', './datasets/youngOld/monica_bellucci', './datasets/youngOld/morgan_freeman', './datasets/youngOld/myleene_klass', './datasets/youngOld/nadege_du_bospertus', './datasets/youngOld/naomi_campbell', './datasets/youngOld/natalia_oreiro', './datasets/youngOld/natalia_vodianova', './datasets/youngOld/natalie_imbruglia', './datasets/youngOld/natalie_portman', './datasets/youngOld/natasha_poly', './datasets/youngOld/nathalie_kelley', './datasets/youngOld/naveen_andrews', './datasets/youngOld/neil_patrick_harris', './datasets/youngOld/nelly', './datasets/youngOld/neve_campbell', './datasets/youngOld/ne_yo', './datasets/youngOld/nicholas_hoult', './datasets/youngOld/nick_nolte', './datasets/youngOld/nicky_hilton', './datasets/youngOld/nicolas_cage', './datasets/youngOld/nicole_eggert', './datasets/youngOld/nicole_kidman', './datasets/youngOld/nicole_richie', './datasets/youngOld/nikita_dzhigurda', './datasets/youngOld/nikita_khrushchev', './datasets/youngOld/nikita_mikhalkov', './datasets/youngOld/niki_taylor', './datasets/youngOld/nikki_reed', './datasets/youngOld/nikki_sixx', './datasets/youngOld/nikolai_baskov', './datasets/youngOld/nikolai_fomenko', './datasets/youngOld/nikolai_valuev', './datasets/youngOld/noah_hathaway', './datasets/youngOld/noel_gallagher', './datasets/youngOld/norman_reedus', './datasets/youngOld/novak_djokovic', './datasets/youngOld/odette_annable', './datasets/youngOld/odette_yustman', './datasets/youngOld/olga_kurylenko', './datasets/youngOld/olivia_newton_john', './datasets/youngOld/omar_epps', './datasets/youngOld/omar_gonzalez', './datasets/youngOld/orlando_bloom', './datasets/youngOld/ozzy_osburne', './datasets/youngOld/pam_dawber', './datasets/youngOld/pamela_anderson', './datasets/youngOld/paolo_bonolis', './datasets/youngOld/paolo_maldini', './datasets/youngOld/paris_hilton', './datasets/youngOld/patrick_stewart', './datasets/youngOld/patrick_swayze', './datasets/youngOld/patsy_kensit', './datasets/youngOld/paulina_porizkova', './datasets/youngOld/paul_mccartney', './datasets/youngOld/paul_michael_glaser', './datasets/youngOld/paul_rudd', './datasets/youngOld/paul_walker', './datasets/youngOld/pavel_volya', './datasets/youngOld/penelope_cruz', './datasets/youngOld/peta_wilson', './datasets/youngOld/pete_doherty', './datasets/youngOld/peter_billingsley', './datasets/youngOld/peter_cushing', './datasets/youngOld/peter_dinklage', './datasets/youngOld/peter_jackson', './datasets/youngOld/peter_weller', './datasets/youngOld/pharrell_williams', './datasets/youngOld/phil_collins', './datasets/youngOld/philip_seymour_hoffman', './datasets/youngOld/pierce_brosnan', './datasets/youngOld/pierre_richard', './datasets/youngOld/pink', './datasets/youngOld/pippo_inzaghi', './datasets/youngOld/prince_charles', './datasets/youngOld/prince_harry', './datasets/youngOld/prince_william', './datasets/youngOld/quentin_tarantino', './datasets/youngOld/rachel_mcadams', './datasets/youngOld/rafa_nadal', './datasets/youngOld/raffaella_fico', './datasets/youngOld/ramzan_kadyrov', './datasets/youngOld/randy_couture', './datasets/youngOld/rashida_jones', './datasets/youngOld/raven_simone', './datasets/youngOld/ray_william_johnson', './datasets/youngOld/rebecca_romijn', './datasets/youngOld/reese_witherspoon', './datasets/youngOld/richard_gere', './datasets/youngOld/richard_grieco', './datasets/youngOld/rick_schroder', './datasets/youngOld/ricky_martin', './datasets/youngOld/ricky_schroder', './datasets/youngOld/rihanna', './datasets/youngOld/ringo_starr', './datasets/youngOld/robbie_williams', './datasets/youngOld/robert_de_niro', './datasets/youngOld/robert_downey_jr', './datasets/youngOld/robert_pattinson', './datasets/youngOld/robert_plant', './datasets/youngOld/robert_sean_leonard', './datasets/youngOld/robin_williams', './datasets/youngOld/rob_schneider', './datasets/youngOld/rod_stewart', './datasets/youngOld/roger_federer', './datasets/youngOld/roman_abramovic', './datasets/youngOld/roman_polanski', './datasets/youngOld/roman_trachtenberg', './datasets/youngOld/roman_yunusov', './datasets/youngOld/ronaldinho', './datasets/youngOld/ronaldo', './datasets/youngOld/ron_howard', './datasets/youngOld/rory_mccann', './datasets/youngOld/rose_mcgowan', './datasets/youngOld/rupaul', './datasets/youngOld/rupert_graves', './datasets/youngOld/rupert_grint', './datasets/youngOld/russell_brand', './datasets/youngOld/russell_crowe', './datasets/youngOld/russell_westbrook', './datasets/youngOld/ryan_gosling', './datasets/youngOld/ryan_reynolds', './datasets/youngOld/salma_hayek', './datasets/youngOld/samuel_l_jackson', './datasets/youngOld/sandra_bullock', './datasets/youngOld/sarah_chalke', './datasets/youngOld/sarah_jessica_parker', './datasets/youngOld/sarah_michelle_gellar', './datasets/youngOld/sarah_wayne_callies', './datasets/youngOld/sara_sampaio', './datasets/youngOld/sasha_grey', './datasets/youngOld/sasha_pieterse', './datasets/youngOld/scarlett_johansson', './datasets/youngOld/sean_astin', './datasets/youngOld/sean_bean', './datasets/youngOld/sean_connery', './datasets/youngOld/sean_p_diddy_combs', './datasets/youngOld/sean_william_scott', './datasets/youngOld/selena_gomez', './datasets/youngOld/selvaggia_lucarelli', './datasets/youngOld/semen_slepakov', './datasets/youngOld/serena_williams', './datasets/youngOld/sergei_bezrukov', './datasets/youngOld/sergei_bodrov_ml', './datasets/youngOld/sergei_mironov', './datasets/youngOld/sergei_shnurov', './datasets/youngOld/sergei_sobyanin', './datasets/youngOld/sergei_zverev', './datasets/youngOld/sergey_lazarev', './datasets/youngOld/sergey_svetlakov', './datasets/youngOld/seth_green', './datasets/youngOld/seth_macfarlane', './datasets/youngOld/shakira', './datasets/youngOld/shannen_doherty', './datasets/youngOld/shaquille_o_neal', './datasets/youngOld/sharon_stone', './datasets/youngOld/shay_mitchell', './datasets/youngOld/shia_labeouf', './datasets/youngOld/sid_vicious', './datasets/youngOld/sigourney_weaver', './datasets/youngOld/simone_helberg', './datasets/youngOld/simon_pegg', './datasets/youngOld/slash', './datasets/youngOld/snooki', './datasets/youngOld/snoop_dogg', './datasets/youngOld/sofia_vergara', './datasets/youngOld/soleil_moon_frye', './datasets/youngOld/sophia_loren', './datasets/youngOld/sophie_turner', './datasets/youngOld/stanislas_wawrinka', './datasets/youngOld/stanley_kubrick', './datasets/youngOld/stanley_tucci', './datasets/youngOld/stas_mikhailov', './datasets/youngOld/stephanie_of_monaco', './datasets/youngOld/stephanie_seymour', './datasets/youngOld/stephen_king', './datasets/youngOld/steve_buscemi', './datasets/youngOld/steve_carell', './datasets/youngOld/steve_jobs', './datasets/youngOld/steven_segal', './datasets/youngOld/steven_spielberg', './datasets/youngOld/steven_tyler', './datasets/youngOld/steven_yeun', './datasets/youngOld/steve_o', './datasets/youngOld/sting', './datasets/youngOld/stockard_channing', './datasets/youngOld/susan_buckner', './datasets/youngOld/susan_sarandon', './datasets/youngOld/suvi_koponen', './datasets/youngOld/svetlana_hodchenkova', './datasets/youngOld/sylvester_stallone', './datasets/youngOld/tami_erin_went', './datasets/youngOld/tara_reid', './datasets/youngOld/tatum_o_neal', './datasets/youngOld/taylor_hill', './datasets/youngOld/taylor_lautner', './datasets/youngOld/taylor_momsen', './datasets/youngOld/taylor_rain', './datasets/youngOld/terence_stamp', './datasets/youngOld/teri_hatcher', './datasets/youngOld/terry_crews', './datasets/youngOld/terry_o_quinn', './datasets/youngOld/the_game', './datasets/youngOld/t_i', './datasets/youngOld/tia_carrere', './datasets/youngOld/tiffani_amber_thiessen', './datasets/youngOld/tim_burton', './datasets/youngOld/tim_howard', './datasets/youngOld/timoteo', './datasets/youngOld/timothy_olyphant', './datasets/youngOld/tim_robbins', './datasets/youngOld/timur_batrutdinov', './datasets/youngOld/timur_rodrigez', './datasets/youngOld/tina_fey', './datasets/youngOld/tina_kandelaki', './datasets/youngOld/tiziano_ferro', './datasets/youngOld/tobey_maguire', './datasets/youngOld/tom_brady', './datasets/youngOld/tom_cruise', './datasets/youngOld/tom_felton', './datasets/youngOld/tom_hanks', './datasets/youngOld/tom_hiddleston', './datasets/youngOld/tommy_lee_jones', './datasets/youngOld/tom_selleck', './datasets/youngOld/tom_welling', './datasets/youngOld/toni_garrn', './datasets/youngOld/tony_romo', './datasets/youngOld/tony_scott', './datasets/youngOld/traci_lords', './datasets/youngOld/troian_bellasario', './datasets/youngOld/tupac_shakur', './datasets/youngOld/twiggy', './datasets/youngOld/tyra_banks', './datasets/youngOld/tyrese_gibson', './datasets/youngOld/uma_thurman', './datasets/youngOld/una_healy', './datasets/youngOld/una_stubbs', './datasets/youngOld/usher', './datasets/youngOld/valentina_matvienko', './datasets/youngOld/valentino_rossi', './datasets/youngOld/valeria_kudryavtseva', './datasets/youngOld/valerio_scanu', './datasets/youngOld/valeriya_novodvorskaya', './datasets/youngOld/val_kilmer', './datasets/youngOld/vanessa_paradis', './datasets/youngOld/vera_breschneva', './datasets/youngOld/victoria_beckam', './datasets/youngOld/viggo_mortensen', './datasets/youngOld/vin_diesel', './datasets/youngOld/vladimir_lenin', './datasets/youngOld/vladimir_putin', './datasets/youngOld/vladimir_sychev', './datasets/youngOld/vladimir_turchinsky', './datasets/youngOld/vladimir_vdovichenkov', './datasets/youngOld/vladimir_vysotsky', './datasets/youngOld/vladimir_zhirinovsky', './datasets/youngOld/vladislav_galkin', './datasets/youngOld/walt_disney', './datasets/youngOld/wayne_rooney', './datasets/youngOld/wentworth_miller', './datasets/youngOld/wesley_sneijder', './datasets/youngOld/wesley_snipes', './datasets/youngOld/whoopi_goldberg', './datasets/youngOld/will_smith', './datasets/youngOld/woody_allen', './datasets/youngOld/woody_harrelson', './datasets/youngOld/yevgeny_leonov', './datasets/youngOld/yevgeny_petrosyan', './datasets/youngOld/yoko_ono', './datasets/youngOld/yulia_tymoshenko', './datasets/youngOld/yuri_gagarin', './datasets/youngOld/yuri_nikulin', './datasets/youngOld/yvonne_strahovski', './datasets/youngOld/zac_efron', './datasets/youngOld/zac_hanson', './datasets/youngOld/zachary_quinto', './datasets/youngOld/zach_braff', './datasets/youngOld/zach_galifianakis', './datasets/youngOld/zhanna_friske', './datasets/youngOld/zinedine_zidane', './datasets/youngOld/zlatan_ibrahimovic', './datasets/youngOld/zoe_saldana', './datasets/youngOld/zooey_deschanel', './datasets/youngOld/testA', './datasets/youngOld/testB']\n"
     ]
    }
   ],
   "source": [
    "import os\n",
    "\n",
    "# folder path\n",
    "dir_path = r'./datasets/youngOld/other'\n",
    "\n",
    "# list to store files\n",
    "res = []\n",
    "\n",
    "# Iterate directory\n",
    "index = 0\n",
    "for path in os.listdir(dir_path):\n",
    "    full_path = dir_path + '/' + path\n",
    "    \n",
    "    for old_image_path in os.listdir(full_path):\n",
    "         if os.path.isfile(os.path.join(full_path, old_image_path)):\n",
    "                os.rename(os.path.join(full_path, old_image_path), os.path.join(r'./datasets/youngOld/testA', old_image_path))\n",
    "         \n",
    "         else:\n",
    "                actor_full_path = os.path.join(full_path, old_image_path)\n",
    "                for young_image_path in os.listdir(actor_full_path):\n",
    "                    os.rename(os.path.join(actor_full_path, young_image_path), os.path.join(r'./datasets/youngOld/testB', young_image_path))\n",
    "            \n",
    "    res.append(full_path)\n",
    "    # check if current path is a file\n",
    "#     if os.path.isfile(os.path.join(dir_path, path)):\n",
    "#         \n",
    "#         os.rename(dir_path + '/' + path, dir_path + '/' + str(index) + '.jpg')\n",
    "#         index = index + 1\n",
    "#         print(dir_path + '/' + path)\n",
    "#         print(dir_path + '/' + str(index) + 'jpg')\n",
    "print(res)"
   ]
  },
  {
   "cell_type": "code",
   "execution_count": null,
   "id": "bccbec36",
   "metadata": {},
   "outputs": [],
   "source": []
  },
  {
   "cell_type": "code",
   "execution_count": 7,
   "id": "9b4867a7",
   "metadata": {},
   "outputs": [
    {
     "name": "stderr",
     "output_type": "stream",
     "text": [
      "2023-05-26 16:02:24.528255: I tensorflow/core/util/port.cc:110] oneDNN custom operations are on. You may see slightly different numerical results due to floating-point round-off errors from different computation orders. To turn them off, set the environment variable `TF_ENABLE_ONEDNN_OPTS=0`.\n",
      "2023-05-26 16:02:24.553066: I tensorflow/core/platform/cpu_feature_guard.cc:182] This TensorFlow binary is optimized to use available CPU instructions in performance-critical operations.\n",
      "To enable the following instructions: AVX2 AVX_VNNI FMA, in other operations, rebuild TensorFlow with the appropriate compiler flags.\n",
      "2023-05-26 16:02:24.991745: W tensorflow/compiler/tf2tensorrt/utils/py_utils.cc:38] TF-TRT Warning: Could not find TensorRT\n"
     ]
    }
   ],
   "source": [
    "from keras_contrib.layers.normalization.instancenormalization import InstanceNormalization"
   ]
  },
  {
   "cell_type": "code",
   "execution_count": 8,
   "id": "389bdddd",
   "metadata": {},
   "outputs": [],
   "source": [
    "#@title\n",
    "import scipy\n",
    "import imageio\n",
    "from glob import glob\n",
    "import numpy as np\n",
    "from skimage import io, transform\n",
    "\n",
    "class DataLoader():\n",
    "    def __init__(self, dataset_name, img_res=(128, 128)):\n",
    "        self.dataset_name = dataset_name\n",
    "        self.img_res = img_res\n",
    "\n",
    "    def load_data(self, domain, batch_size=1):\n",
    "        \n",
    "        print(\"LOADING DATA --------------\")\n",
    "        \n",
    "        path = glob('./datasets/%s/%s/*' % (self.dataset_name, z))\n",
    "\n",
    "        batch_images = np.random.choice(path, size=batch_size)\n",
    "\n",
    "        imgs = []\n",
    "        for img_path in batch_images:\n",
    "            img = self.imread(img_path)\n",
    "            \n",
    "            img = transform.resize(img, self.img_res)\n",
    "\n",
    "            if np.random.random() > 0.5:\n",
    "                img = np.fliplr(img)\n",
    "\n",
    "        imgs = np.array(imgs)/127.5 - 1.\n",
    "\n",
    "        return imgs\n",
    "\n",
    "    def load_batch(self, batch_size=1):\n",
    "        path_A = glob('./datasets/%s/A/*' % (self.dataset_name))\n",
    "        path_B = glob('./datasets/%s/B/*' % (self.dataset_name))\n",
    "\n",
    "        self.n_batches = int(min(len(path_A), len(path_B)) / batch_size)\n",
    "        total_samples = self.n_batches * batch_size\n",
    "\n",
    "        # Sample n_batches * batch_size from each path list so that model sees all\n",
    "        # samples from both domains\n",
    "        path_A = np.random.choice(path_A, total_samples, replace=False)\n",
    "        path_B = np.random.choice(path_B, total_samples, replace=False)\n",
    "\n",
    "        for i in range(self.n_batches-1):\n",
    "            batch_A = path_A[i*batch_size:(i+1)*batch_size]\n",
    "            batch_B = path_B[i*batch_size:(i+1)*batch_size]\n",
    "            imgs_A, imgs_B = [], []\n",
    "            for img_A, img_B in zip(batch_A, batch_B):\n",
    "                img_A = self.imread(img_A)\n",
    "                img_B = self.imread(img_B)\n",
    "\n",
    "                img_A = transform.resize(img_A, self.img_res)\n",
    "                img_B = transform.resize(img_B, self.img_res)\n",
    "\n",
    "                img_A = np.fliplr(img_A)\n",
    "                img_B = np.fliplr(img_B)\n",
    "\n",
    "                imgs_A.append(img_A)\n",
    "                imgs_B.append(img_B)\n",
    "\n",
    "            imgs_A = np.array(imgs_A)/127.5 - 1.\n",
    "            imgs_B = np.array(imgs_B)/127.5 - 1.\n",
    "            \n",
    "            yield imgs_A, imgs_B\n",
    "\n",
    "    def imread(self, path):\n",
    "        return imageio.imread(path, mode='RGB').astype(np.float)\n"
   ]
  },
  {
   "cell_type": "code",
   "execution_count": 9,
   "id": "e3fb5489",
   "metadata": {},
   "outputs": [],
   "source": [
    "\n",
    "from __future__ import print_function, division\n",
    "import scipy\n",
    "from keras.datasets import mnist\n",
    "from keras_contrib.layers.normalization.instancenormalization import InstanceNormalization\n",
    "from keras.layers import Input, Dense, Reshape, Flatten, Dropout, Concatenate\n",
    "from keras.layers import BatchNormalization, Activation, ZeroPadding2D\n",
    "from keras.layers import LeakyReLU\n",
    "from keras.layers.convolutional import UpSampling2D, Conv2D\n",
    "from keras.models import Sequential, Model\n",
    "from keras.optimizers import Adam\n",
    "import datetime\n",
    "import matplotlib.pyplot as plt\n",
    "import sys\n",
    "import numpy as np\n",
    "import os"
   ]
  },
  {
   "cell_type": "code",
   "execution_count": 10,
   "id": "489b4339",
   "metadata": {},
   "outputs": [],
   "source": [
    "class CycleGAN():\n",
    "    def __init__(self):\n",
    "        # Input shape\n",
    "        self.img_rows = 128\n",
    "        self.img_cols = 128\n",
    "        self.channels = 3\n",
    "        self.img_shape = (self.img_rows, self.img_cols, self.channels)\n",
    "\n",
    "        # Configure data loader\n",
    "        self.dataset_name = 'archive'\n",
    "        # Use the DataLoader object to import a preprocessed dataset\n",
    "        self.data_loader = DataLoader(dataset_name=self.dataset_name,\n",
    "                                      img_res=(self.img_rows, self.img_cols))\n",
    "\n",
    "        # Calculate output shape of D (PatchGAN)\n",
    "        patch = int(self.img_rows / 2**4)\n",
    "        self.disc_patch = (patch, patch, 1)\n",
    "\n",
    "        # Number of filters in the first layer of G and D\n",
    "        self.gf = 32\n",
    "        self.df = 64\n",
    "\n",
    "        # Loss weights\n",
    "        self.lambda_cycle = 10.0                    # Cycle-consistency loss\n",
    "        self.lambda_id = 0.9 * self.lambda_cycle    # Identity loss\n",
    "\n",
    "        optimizer = Adam(0.0002, 0.5)\n",
    "        \n",
    "        # Build and compile the discriminators\n",
    "        self.d_A = self.build_discriminator()\n",
    "        self.d_B = self.build_discriminator()\n",
    "        self.d_A.compile(loss='mse',\n",
    "                         optimizer=optimizer,\n",
    "                         metrics=['accuracy'])\n",
    "        self.d_B.compile(loss='mse',\n",
    "                         optimizer=optimizer,\n",
    "                         metrics=['accuracy'])\n",
    "\n",
    "        #-------------------------\n",
    "        # Construct Computational\n",
    "        #   Graph of Generators\n",
    "        #-------------------------\n",
    "\n",
    "        # Build the generators\n",
    "        self.g_AB = self.build_generator()\n",
    "        self.g_BA = self.build_generator()\n",
    "\n",
    "        # Input images from both domains\n",
    "        img_A = Input(shape=self.img_shape)\n",
    "        img_B = Input(shape=self.img_shape)\n",
    "\n",
    "        # Translate images to the other domain\n",
    "        fake_B = self.g_AB(img_A)\n",
    "        fake_A = self.g_BA(img_B)\n",
    "        # Translate images back to original domain\n",
    "        reconstr_A = self.g_BA(fake_B)\n",
    "        reconstr_B = self.g_AB(fake_A)\n",
    "        # Identity mapping of images\n",
    "        img_A_id = self.g_BA(img_A)\n",
    "        img_B_id = self.g_AB(img_B)\n",
    "\n",
    "        # For the combined model we will only train the generators\n",
    "        self.d_A.trainable = False\n",
    "        self.d_B.trainable = False\n",
    "\n",
    "        # Discriminators determines validity of translated images\n",
    "        valid_A = self.d_A(fake_A)\n",
    "        valid_B = self.d_B(fake_B)\n",
    "\n",
    "        # Combined model trains generators to fool discriminators\n",
    "        self.combined = Model(inputs=[img_A, img_B],\n",
    "                              outputs=[valid_A, valid_B,\n",
    "                                       reconstr_A, reconstr_B,\n",
    "                                       img_A_id, img_B_id])\n",
    "        self.combined.compile(loss=['mse', 'mse',\n",
    "                                    'mae', 'mae',\n",
    "                                    'mae', 'mae'],\n",
    "                              loss_weights=[1, 1,\n",
    "                                            self.lambda_cycle, self.lambda_cycle,\n",
    "                                            self.lambda_id, self.lambda_id],\n",
    "                              optimizer=optimizer)\n"
   ]
  },
  {
   "cell_type": "code",
   "execution_count": 11,
   "id": "c9e1296d",
   "metadata": {},
   "outputs": [],
   "source": [
    "class CycleGAN(CycleGAN):\n",
    "    @staticmethod\n",
    "    def conv2d(layer_input, filters, f_size=4, normalization=True):\n",
    "        \"\"\"Discriminator layer\"\"\"\n",
    "        d = Conv2D(filters, kernel_size=f_size,\n",
    "                   strides=2, padding='same')(layer_input)\n",
    "        d = LeakyReLU(alpha=0.2)(d)\n",
    "        if normalization:\n",
    "            d = InstanceNormalization()(d)\n",
    "        return d\n",
    "      \n",
    "    @staticmethod\n",
    "    def deconv2d(layer_input, skip_input, filters, f_size=4, dropout_rate=0):\n",
    "        \"\"\"Layers used during upsampling\"\"\"\n",
    "        u = UpSampling2D(size=2)(layer_input)\n",
    "        u = Conv2D(filters, kernel_size=f_size, strides=1, padding='same', activation='relu')(u)\n",
    "        if dropout_rate:\n",
    "            u = Dropout(dropout_rate)(u)\n",
    "            u = InstanceNormalization()(u)\n",
    "            u = Concatenate()([u, skip_input])\n",
    "        return u\n"
   ]
  },
  {
   "cell_type": "code",
   "execution_count": 12,
   "id": "673ece50",
   "metadata": {},
   "outputs": [],
   "source": [
    "class CycleGAN(CycleGAN):\n",
    "    def build_generator(self):\n",
    "        \"\"\"U-Net Generator\"\"\"\n",
    "        # Image input\n",
    "        d0 = Input(shape=self.img_shape)\n",
    "\n",
    "        # Downsampling\n",
    "        d1 = self.conv2d(d0, self.gf)\n",
    "        d2 = self.conv2d(d1, self.gf * 2)\n",
    "        d3 = self.conv2d(d2, self.gf * 4)\n",
    "        d4 = self.conv2d(d3, self.gf * 8)\n",
    "\n",
    "        # Upsampling\n",
    "        u1 = self.deconv2d(d4, d3, self.gf * 4)\n",
    "        u2 = self.deconv2d(u1, d2, self.gf * 2)\n",
    "        u3 = self.deconv2d(u2, d1, self.gf)\n",
    "\n",
    "        u4 = UpSampling2D(size=2)(u3)\n",
    "        output_img = Conv2D(self.channels, kernel_size=4,\n",
    "                            strides=1, padding='same', activation='tanh')(u4)\n",
    "\n",
    "        return Model(d0, output_img)\n",
    "     "
   ]
  },
  {
   "cell_type": "code",
   "execution_count": 13,
   "id": "4e1da789",
   "metadata": {},
   "outputs": [],
   "source": [
    "class CycleGAN(CycleGAN):\n",
    "    def build_discriminator(self):\n",
    "        img = Input(shape=self.img_shape)\n",
    "\n",
    "        d1 = self.conv2d(img, self.df, normalization=False)\n",
    "        d2 = self.conv2d(d1, self.df * 2)\n",
    "        d3 = self.conv2d(d2, self.df * 4)\n",
    "        d4 = self.conv2d(d3, self.df * 8)\n",
    "\n",
    "        validity = Conv2D(1, kernel_size=4, strides=1, padding='same')(d4)\n",
    "\n",
    "        return Model(img, validity)"
   ]
  },
  {
   "cell_type": "code",
   "execution_count": 14,
   "id": "a34575b6",
   "metadata": {},
   "outputs": [],
   "source": [
    "class CycleGAN(CycleGAN):\n",
    "      def sample_images(self, epoch, batch_i):\n",
    "        r, c = 2, 3\n",
    "\n",
    "        imgs_A = self.data_loader.load_data(domain=\"A\", batch_size=1)\n",
    "        imgs_B = self.data_loader.load_data(domain=\"B\", batch_size=1)\n",
    "        \n",
    "        # Translate images to the other domain\n",
    "        fake_B = self.g_AB.predict(imgs_A)\n",
    "        fake_A = self.g_BA.predict(imgs_B)\n",
    "        # Translate back to original domain\n",
    "        reconstr_A = self.g_BA.predict(fake_B)\n",
    "        reconstr_B = self.g_AB.predict(fake_A)\n",
    "\n",
    "        gen_imgs = np.concatenate([imgs_A, fake_B, reconstr_A, imgs_B, fake_A, reconstr_B])\n",
    "\n",
    "        # Rescale images 0 - 1\n",
    "        gen_imgs = 0.5 * gen_imgs + 0.5\n",
    "\n",
    "        titles = ['Original', 'Translated', 'Reconstructed']\n",
    "        fig, axs = plt.subplots(r, c)\n",
    "        cnt = 0\n",
    "        for i in range(r):\n",
    "            for j in range(c):\n",
    "                axs[i,j].imshow(gen_imgs[cnt])\n",
    "                axs[i, j].set_title(titles[j])\n",
    "                axs[i,j].axis('off')\n",
    "                cnt += 1\n",
    "        fig.savefig(\"datasets/%s/results/%d_%d.png\" % (self.dataset_name, epoch, batch_i))\n",
    "        plt.show()\n",
    "     "
   ]
  },
  {
   "cell_type": "code",
   "execution_count": 15,
   "id": "098b8ff0",
   "metadata": {},
   "outputs": [],
   "source": [
    "class CycleGAN(CycleGAN):\n",
    "      def train(self, epochs, batch_size=1, sample_interval=50):\n",
    "        # Adversarial loss ground truths\n",
    "        valid = np.ones((batch_size,) + self.disc_patch)\n",
    "        fake = np.zeros((batch_size,) + self.disc_patch)\n",
    "\n",
    "\n",
    "        for epoch in range(epochs):\n",
    "            for batch_i, (imgs_A, imgs_B) in enumerate(self.data_loader.load_batch(batch_size)):\n",
    "\n",
    "                # ----------------------\n",
    "                #  Train Discriminators\n",
    "                # ----------------------\n",
    "                \n",
    "                print(imgs_A.shape)\n",
    "                print(imgs_B.shape)\n",
    "\n",
    "                # Translate images to opposite domain\n",
    "                fake_B = self.g_AB.predict(imgs_A)\n",
    "                fake_A = self.g_BA.predict(imgs_B)\n",
    "\n",
    "                # Train the discriminators (original images = real / translated = Fake)\n",
    "                dA_loss_real = self.d_A.train_on_batch(imgs_A, valid)\n",
    "                dA_loss_fake = self.d_A.train_on_batch(fake_A, fake)\n",
    "                dA_loss = 0.5 * np.add(dA_loss_real, dA_loss_fake)\n",
    "\n",
    "                dB_loss_real = self.d_B.train_on_batch(imgs_B, valid)\n",
    "                dB_loss_fake = self.d_B.train_on_batch(fake_B, fake)\n",
    "                dB_loss = 0.5 * np.add(dB_loss_real, dB_loss_fake)\n",
    "\n",
    "                # Total discriminator loss\n",
    "                d_loss = 0.5 * np.add(dA_loss, dB_loss)\n",
    "\n",
    "                # ------------------\n",
    "                #  Train Generators\n",
    "                # ------------------\n",
    "\n",
    "                # Train the generators\n",
    "                g_loss = self.combined.train_on_batch([imgs_A, imgs_B],\n",
    "                                                      [valid, valid,\n",
    "                                                       imgs_A, imgs_B,\n",
    "                                                       imgs_A, imgs_B])\n",
    "                # If at save interval => plot the generated image samples\n",
    "#                 if batch_i % sample_interval == 0:\n",
    "#                     self.sample_images(epoch, batch_i)"
   ]
  },
  {
   "cell_type": "code",
   "execution_count": 16,
   "id": "aa83b404",
   "metadata": {},
   "outputs": [
    {
     "name": "stderr",
     "output_type": "stream",
     "text": [
      "2023-05-26 16:02:31.598727: I tensorflow/compiler/xla/stream_executor/cuda/cuda_gpu_executor.cc:996] successful NUMA node read from SysFS had negative value (-1), but there must be at least one NUMA node, so returning NUMA node zero. See more at https://github.com/torvalds/linux/blob/v6.0/Documentation/ABI/testing/sysfs-bus-pci#L344-L355\n",
      "2023-05-26 16:02:31.613737: I tensorflow/compiler/xla/stream_executor/cuda/cuda_gpu_executor.cc:996] successful NUMA node read from SysFS had negative value (-1), but there must be at least one NUMA node, so returning NUMA node zero. See more at https://github.com/torvalds/linux/blob/v6.0/Documentation/ABI/testing/sysfs-bus-pci#L344-L355\n",
      "2023-05-26 16:02:31.613885: I tensorflow/compiler/xla/stream_executor/cuda/cuda_gpu_executor.cc:996] successful NUMA node read from SysFS had negative value (-1), but there must be at least one NUMA node, so returning NUMA node zero. See more at https://github.com/torvalds/linux/blob/v6.0/Documentation/ABI/testing/sysfs-bus-pci#L344-L355\n",
      "2023-05-26 16:02:31.614983: I tensorflow/compiler/xla/stream_executor/cuda/cuda_gpu_executor.cc:996] successful NUMA node read from SysFS had negative value (-1), but there must be at least one NUMA node, so returning NUMA node zero. See more at https://github.com/torvalds/linux/blob/v6.0/Documentation/ABI/testing/sysfs-bus-pci#L344-L355\n",
      "2023-05-26 16:02:31.615107: I tensorflow/compiler/xla/stream_executor/cuda/cuda_gpu_executor.cc:996] successful NUMA node read from SysFS had negative value (-1), but there must be at least one NUMA node, so returning NUMA node zero. See more at https://github.com/torvalds/linux/blob/v6.0/Documentation/ABI/testing/sysfs-bus-pci#L344-L355\n",
      "2023-05-26 16:02:31.615185: I tensorflow/compiler/xla/stream_executor/cuda/cuda_gpu_executor.cc:996] successful NUMA node read from SysFS had negative value (-1), but there must be at least one NUMA node, so returning NUMA node zero. See more at https://github.com/torvalds/linux/blob/v6.0/Documentation/ABI/testing/sysfs-bus-pci#L344-L355\n",
      "2023-05-26 16:02:31.993419: I tensorflow/compiler/xla/stream_executor/cuda/cuda_gpu_executor.cc:996] successful NUMA node read from SysFS had negative value (-1), but there must be at least one NUMA node, so returning NUMA node zero. See more at https://github.com/torvalds/linux/blob/v6.0/Documentation/ABI/testing/sysfs-bus-pci#L344-L355\n",
      "2023-05-26 16:02:31.993539: I tensorflow/compiler/xla/stream_executor/cuda/cuda_gpu_executor.cc:996] successful NUMA node read from SysFS had negative value (-1), but there must be at least one NUMA node, so returning NUMA node zero. See more at https://github.com/torvalds/linux/blob/v6.0/Documentation/ABI/testing/sysfs-bus-pci#L344-L355\n",
      "2023-05-26 16:02:31.993601: I tensorflow/compiler/xla/stream_executor/cuda/cuda_gpu_executor.cc:996] successful NUMA node read from SysFS had negative value (-1), but there must be at least one NUMA node, so returning NUMA node zero. See more at https://github.com/torvalds/linux/blob/v6.0/Documentation/ABI/testing/sysfs-bus-pci#L344-L355\n",
      "2023-05-26 16:02:31.993656: I tensorflow/core/common_runtime/gpu/gpu_device.cc:1635] Created device /job:localhost/replica:0/task:0/device:GPU:0 with 196 MB memory:  -> device: 0, name: NVIDIA GeForce RTX 3080 Ti Laptop GPU, pci bus id: 0000:01:00.0, compute capability: 8.6\n",
      "/tmp/ipykernel_7705/1937140593.py:69: DeprecationWarning: Starting with ImageIO v3 the behavior of this function will switch to that of iio.v3.imread. To keep the current behavior (and make this warning disappear) use `import imageio.v2 as imageio` or call `imageio.v2.imread` directly.\n",
      "  return imageio.imread(path, mode='RGB').astype(np.float)\n",
      "/tmp/ipykernel_7705/1937140593.py:69: DeprecationWarning: `np.float` is a deprecated alias for the builtin `float`. To silence this warning, use `float` by itself. Doing this will not modify any behavior and is safe. If you specifically wanted the numpy scalar type, use `np.float64` here.\n",
      "Deprecated in NumPy 1.20; for more details and guidance: https://numpy.org/devdocs/release/1.20.0-notes.html#deprecations\n",
      "  return imageio.imread(path, mode='RGB').astype(np.float)\n"
     ]
    },
    {
     "name": "stdout",
     "output_type": "stream",
     "text": [
      "(64, 128, 128, 3)\n",
      "(64, 128, 128, 3)\n"
     ]
    },
    {
     "name": "stderr",
     "output_type": "stream",
     "text": [
      "2023-05-26 16:02:34.956788: E tensorflow/compiler/xla/stream_executor/cuda/cuda_dnn.cc:429] Could not create cudnn handle: CUDNN_STATUS_NOT_INITIALIZED\n",
      "2023-05-26 16:02:34.956852: E tensorflow/compiler/xla/stream_executor/cuda/cuda_dnn.cc:438] Possibly insufficient driver version: 530.41.3\n",
      "2023-05-26 16:02:34.956888: W tensorflow/core/framework/op_kernel.cc:1830] OP_REQUIRES failed at conv_ops.cc:1068 : UNIMPLEMENTED: DNN library is not found.\n",
      "2023-05-26 16:02:34.956907: I tensorflow/core/common_runtime/executor.cc:1197] [/job:localhost/replica:0/task:0/device:GPU:0] (DEBUG INFO) Executor start aborting (this does not indicate an error and you can ignore this message): UNIMPLEMENTED: DNN library is not found.\n",
      "\t [[{{node model_2/conv2d_10/Conv2D}}]]\n"
     ]
    },
    {
     "ename": "UnimplementedError",
     "evalue": "Graph execution error:\n\nDetected at node 'model_2/conv2d_10/Conv2D' defined at (most recent call last):\n    File \"<frozen runpy>\", line 198, in _run_module_as_main\n    File \"<frozen runpy>\", line 88, in _run_code\n    File \"/home/sudokit/Documents/College/Engineering/S6/BIAI/GANs/venv/lib64/python3.11/site-packages/ipykernel_launcher.py\", line 17, in <module>\n      app.launch_new_instance()\n    File \"/home/sudokit/Documents/College/Engineering/S6/BIAI/GANs/venv/lib64/python3.11/site-packages/traitlets/config/application.py\", line 1043, in launch_instance\n      app.start()\n    File \"/home/sudokit/Documents/College/Engineering/S6/BIAI/GANs/venv/lib64/python3.11/site-packages/ipykernel/kernelapp.py\", line 725, in start\n      self.io_loop.start()\n    File \"/home/sudokit/Documents/College/Engineering/S6/BIAI/GANs/venv/lib64/python3.11/site-packages/tornado/platform/asyncio.py\", line 195, in start\n      self.asyncio_loop.run_forever()\n    File \"/usr/lib64/python3.11/asyncio/base_events.py\", line 607, in run_forever\n      self._run_once()\n    File \"/usr/lib64/python3.11/asyncio/base_events.py\", line 1922, in _run_once\n      handle._run()\n    File \"/usr/lib64/python3.11/asyncio/events.py\", line 80, in _run\n      self._context.run(self._callback, *self._args)\n    File \"/home/sudokit/Documents/College/Engineering/S6/BIAI/GANs/venv/lib64/python3.11/site-packages/ipykernel/kernelbase.py\", line 513, in dispatch_queue\n      await self.process_one()\n    File \"/home/sudokit/Documents/College/Engineering/S6/BIAI/GANs/venv/lib64/python3.11/site-packages/ipykernel/kernelbase.py\", line 502, in process_one\n      await dispatch(*args)\n    File \"/home/sudokit/Documents/College/Engineering/S6/BIAI/GANs/venv/lib64/python3.11/site-packages/ipykernel/kernelbase.py\", line 409, in dispatch_shell\n      await result\n    File \"/home/sudokit/Documents/College/Engineering/S6/BIAI/GANs/venv/lib64/python3.11/site-packages/ipykernel/kernelbase.py\", line 729, in execute_request\n      reply_content = await reply_content\n    File \"/home/sudokit/Documents/College/Engineering/S6/BIAI/GANs/venv/lib64/python3.11/site-packages/ipykernel/ipkernel.py\", line 422, in do_execute\n      res = shell.run_cell(\n    File \"/home/sudokit/Documents/College/Engineering/S6/BIAI/GANs/venv/lib64/python3.11/site-packages/ipykernel/zmqshell.py\", line 540, in run_cell\n      return super().run_cell(*args, **kwargs)\n    File \"/home/sudokit/Documents/College/Engineering/S6/BIAI/GANs/venv/lib64/python3.11/site-packages/IPython/core/interactiveshell.py\", line 3009, in run_cell\n      result = self._run_cell(\n    File \"/home/sudokit/Documents/College/Engineering/S6/BIAI/GANs/venv/lib64/python3.11/site-packages/IPython/core/interactiveshell.py\", line 3064, in _run_cell\n      result = runner(coro)\n    File \"/home/sudokit/Documents/College/Engineering/S6/BIAI/GANs/venv/lib64/python3.11/site-packages/IPython/core/async_helpers.py\", line 129, in _pseudo_sync_runner\n      coro.send(None)\n    File \"/home/sudokit/Documents/College/Engineering/S6/BIAI/GANs/venv/lib64/python3.11/site-packages/IPython/core/interactiveshell.py\", line 3269, in run_cell_async\n      has_raised = await self.run_ast_nodes(code_ast.body, cell_name,\n    File \"/home/sudokit/Documents/College/Engineering/S6/BIAI/GANs/venv/lib64/python3.11/site-packages/IPython/core/interactiveshell.py\", line 3448, in run_ast_nodes\n      if await self.run_code(code, result, async_=asy):\n    File \"/home/sudokit/Documents/College/Engineering/S6/BIAI/GANs/venv/lib64/python3.11/site-packages/IPython/core/interactiveshell.py\", line 3508, in run_code\n      exec(code_obj, self.user_global_ns, self.user_ns)\n    File \"/tmp/ipykernel_7705/765875614.py\", line 2, in <module>\n      cycle_gan.train(epochs=100, batch_size=64, sample_interval=10)\n    File \"/tmp/ipykernel_7705/3949875849.py\", line 19, in train\n      fake_B = self.g_AB.predict(imgs_A)\n    File \"/home/sudokit/Documents/College/Engineering/S6/BIAI/GANs/venv/lib64/python3.11/site-packages/keras/utils/traceback_utils.py\", line 65, in error_handler\n      return fn(*args, **kwargs)\n    File \"/home/sudokit/Documents/College/Engineering/S6/BIAI/GANs/venv/lib64/python3.11/site-packages/keras/engine/training.py\", line 2382, in predict\n      tmp_batch_outputs = self.predict_function(iterator)\n    File \"/home/sudokit/Documents/College/Engineering/S6/BIAI/GANs/venv/lib64/python3.11/site-packages/keras/engine/training.py\", line 2169, in predict_function\n      return step_function(self, iterator)\n    File \"/home/sudokit/Documents/College/Engineering/S6/BIAI/GANs/venv/lib64/python3.11/site-packages/keras/engine/training.py\", line 2155, in step_function\n      outputs = model.distribute_strategy.run(run_step, args=(data,))\n    File \"/home/sudokit/Documents/College/Engineering/S6/BIAI/GANs/venv/lib64/python3.11/site-packages/keras/engine/training.py\", line 2143, in run_step\n      outputs = model.predict_step(data)\n    File \"/home/sudokit/Documents/College/Engineering/S6/BIAI/GANs/venv/lib64/python3.11/site-packages/keras/engine/training.py\", line 2111, in predict_step\n      return self(x, training=False)\n    File \"/home/sudokit/Documents/College/Engineering/S6/BIAI/GANs/venv/lib64/python3.11/site-packages/keras/utils/traceback_utils.py\", line 65, in error_handler\n      return fn(*args, **kwargs)\n    File \"/home/sudokit/Documents/College/Engineering/S6/BIAI/GANs/venv/lib64/python3.11/site-packages/keras/engine/training.py\", line 558, in __call__\n      return super().__call__(*args, **kwargs)\n    File \"/home/sudokit/Documents/College/Engineering/S6/BIAI/GANs/venv/lib64/python3.11/site-packages/keras/utils/traceback_utils.py\", line 65, in error_handler\n      return fn(*args, **kwargs)\n    File \"/home/sudokit/Documents/College/Engineering/S6/BIAI/GANs/venv/lib64/python3.11/site-packages/keras/engine/base_layer.py\", line 1145, in __call__\n      outputs = call_fn(inputs, *args, **kwargs)\n    File \"/home/sudokit/Documents/College/Engineering/S6/BIAI/GANs/venv/lib64/python3.11/site-packages/keras/utils/traceback_utils.py\", line 96, in error_handler\n      return fn(*args, **kwargs)\n    File \"/home/sudokit/Documents/College/Engineering/S6/BIAI/GANs/venv/lib64/python3.11/site-packages/keras/engine/functional.py\", line 512, in call\n      return self._run_internal_graph(inputs, training=training, mask=mask)\n    File \"/home/sudokit/Documents/College/Engineering/S6/BIAI/GANs/venv/lib64/python3.11/site-packages/keras/engine/functional.py\", line 669, in _run_internal_graph\n      outputs = node.layer(*args, **kwargs)\n    File \"/home/sudokit/Documents/College/Engineering/S6/BIAI/GANs/venv/lib64/python3.11/site-packages/keras/utils/traceback_utils.py\", line 65, in error_handler\n      return fn(*args, **kwargs)\n    File \"/home/sudokit/Documents/College/Engineering/S6/BIAI/GANs/venv/lib64/python3.11/site-packages/keras/engine/base_layer.py\", line 1145, in __call__\n      outputs = call_fn(inputs, *args, **kwargs)\n    File \"/home/sudokit/Documents/College/Engineering/S6/BIAI/GANs/venv/lib64/python3.11/site-packages/keras/utils/traceback_utils.py\", line 96, in error_handler\n      return fn(*args, **kwargs)\n    File \"/home/sudokit/Documents/College/Engineering/S6/BIAI/GANs/venv/lib64/python3.11/site-packages/keras/layers/convolutional/base_conv.py\", line 290, in call\n      outputs = self.convolution_op(inputs, self.kernel)\n    File \"/home/sudokit/Documents/College/Engineering/S6/BIAI/GANs/venv/lib64/python3.11/site-packages/keras/layers/convolutional/base_conv.py\", line 262, in convolution_op\n      return tf.nn.convolution(\nNode: 'model_2/conv2d_10/Conv2D'\nDNN library is not found.\n\t [[{{node model_2/conv2d_10/Conv2D}}]] [Op:__inference_predict_function_2792]",
     "output_type": "error",
     "traceback": [
      "\u001b[0;31m---------------------------------------------------------------------------\u001b[0m",
      "\u001b[0;31mUnimplementedError\u001b[0m                        Traceback (most recent call last)",
      "Cell \u001b[0;32mIn[16], line 2\u001b[0m\n\u001b[1;32m      1\u001b[0m cycle_gan \u001b[38;5;241m=\u001b[39m CycleGAN()\n\u001b[0;32m----> 2\u001b[0m \u001b[43mcycle_gan\u001b[49m\u001b[38;5;241;43m.\u001b[39;49m\u001b[43mtrain\u001b[49m\u001b[43m(\u001b[49m\u001b[43mepochs\u001b[49m\u001b[38;5;241;43m=\u001b[39;49m\u001b[38;5;241;43m100\u001b[39;49m\u001b[43m,\u001b[49m\u001b[43m \u001b[49m\u001b[43mbatch_size\u001b[49m\u001b[38;5;241;43m=\u001b[39;49m\u001b[38;5;241;43m64\u001b[39;49m\u001b[43m,\u001b[49m\u001b[43m \u001b[49m\u001b[43msample_interval\u001b[49m\u001b[38;5;241;43m=\u001b[39;49m\u001b[38;5;241;43m10\u001b[39;49m\u001b[43m)\u001b[49m\n",
      "Cell \u001b[0;32mIn[15], line 19\u001b[0m, in \u001b[0;36mCycleGAN.train\u001b[0;34m(self, epochs, batch_size, sample_interval)\u001b[0m\n\u001b[1;32m     16\u001b[0m \u001b[38;5;28mprint\u001b[39m(imgs_B\u001b[38;5;241m.\u001b[39mshape)\n\u001b[1;32m     18\u001b[0m \u001b[38;5;66;03m# Translate images to opposite domain\u001b[39;00m\n\u001b[0;32m---> 19\u001b[0m fake_B \u001b[38;5;241m=\u001b[39m \u001b[38;5;28;43mself\u001b[39;49m\u001b[38;5;241;43m.\u001b[39;49m\u001b[43mg_AB\u001b[49m\u001b[38;5;241;43m.\u001b[39;49m\u001b[43mpredict\u001b[49m\u001b[43m(\u001b[49m\u001b[43mimgs_A\u001b[49m\u001b[43m)\u001b[49m\n\u001b[1;32m     20\u001b[0m fake_A \u001b[38;5;241m=\u001b[39m \u001b[38;5;28mself\u001b[39m\u001b[38;5;241m.\u001b[39mg_BA\u001b[38;5;241m.\u001b[39mpredict(imgs_B)\n\u001b[1;32m     22\u001b[0m \u001b[38;5;66;03m# Train the discriminators (original images = real / translated = Fake)\u001b[39;00m\n",
      "File \u001b[0;32m~/Documents/College/Engineering/S6/BIAI/GANs/venv/lib64/python3.11/site-packages/keras/utils/traceback_utils.py:70\u001b[0m, in \u001b[0;36mfilter_traceback.<locals>.error_handler\u001b[0;34m(*args, **kwargs)\u001b[0m\n\u001b[1;32m     67\u001b[0m     filtered_tb \u001b[38;5;241m=\u001b[39m _process_traceback_frames(e\u001b[38;5;241m.\u001b[39m__traceback__)\n\u001b[1;32m     68\u001b[0m     \u001b[38;5;66;03m# To get the full stack trace, call:\u001b[39;00m\n\u001b[1;32m     69\u001b[0m     \u001b[38;5;66;03m# `tf.debugging.disable_traceback_filtering()`\u001b[39;00m\n\u001b[0;32m---> 70\u001b[0m     \u001b[38;5;28;01mraise\u001b[39;00m e\u001b[38;5;241m.\u001b[39mwith_traceback(filtered_tb) \u001b[38;5;28;01mfrom\u001b[39;00m \u001b[38;5;28;01mNone\u001b[39;00m\n\u001b[1;32m     71\u001b[0m \u001b[38;5;28;01mfinally\u001b[39;00m:\n\u001b[1;32m     72\u001b[0m     \u001b[38;5;28;01mdel\u001b[39;00m filtered_tb\n",
      "File \u001b[0;32m~/Documents/College/Engineering/S6/BIAI/GANs/venv/lib64/python3.11/site-packages/tensorflow/python/eager/execute.py:52\u001b[0m, in \u001b[0;36mquick_execute\u001b[0;34m(op_name, num_outputs, inputs, attrs, ctx, name)\u001b[0m\n\u001b[1;32m     50\u001b[0m \u001b[38;5;28;01mtry\u001b[39;00m:\n\u001b[1;32m     51\u001b[0m   ctx\u001b[38;5;241m.\u001b[39mensure_initialized()\n\u001b[0;32m---> 52\u001b[0m   tensors \u001b[38;5;241m=\u001b[39m pywrap_tfe\u001b[38;5;241m.\u001b[39mTFE_Py_Execute(ctx\u001b[38;5;241m.\u001b[39m_handle, device_name, op_name,\n\u001b[1;32m     53\u001b[0m                                       inputs, attrs, num_outputs)\n\u001b[1;32m     54\u001b[0m \u001b[38;5;28;01mexcept\u001b[39;00m core\u001b[38;5;241m.\u001b[39m_NotOkStatusException \u001b[38;5;28;01mas\u001b[39;00m e:\n\u001b[1;32m     55\u001b[0m   \u001b[38;5;28;01mif\u001b[39;00m name \u001b[38;5;129;01mis\u001b[39;00m \u001b[38;5;129;01mnot\u001b[39;00m \u001b[38;5;28;01mNone\u001b[39;00m:\n",
      "\u001b[0;31mUnimplementedError\u001b[0m: Graph execution error:\n\nDetected at node 'model_2/conv2d_10/Conv2D' defined at (most recent call last):\n    File \"<frozen runpy>\", line 198, in _run_module_as_main\n    File \"<frozen runpy>\", line 88, in _run_code\n    File \"/home/sudokit/Documents/College/Engineering/S6/BIAI/GANs/venv/lib64/python3.11/site-packages/ipykernel_launcher.py\", line 17, in <module>\n      app.launch_new_instance()\n    File \"/home/sudokit/Documents/College/Engineering/S6/BIAI/GANs/venv/lib64/python3.11/site-packages/traitlets/config/application.py\", line 1043, in launch_instance\n      app.start()\n    File \"/home/sudokit/Documents/College/Engineering/S6/BIAI/GANs/venv/lib64/python3.11/site-packages/ipykernel/kernelapp.py\", line 725, in start\n      self.io_loop.start()\n    File \"/home/sudokit/Documents/College/Engineering/S6/BIAI/GANs/venv/lib64/python3.11/site-packages/tornado/platform/asyncio.py\", line 195, in start\n      self.asyncio_loop.run_forever()\n    File \"/usr/lib64/python3.11/asyncio/base_events.py\", line 607, in run_forever\n      self._run_once()\n    File \"/usr/lib64/python3.11/asyncio/base_events.py\", line 1922, in _run_once\n      handle._run()\n    File \"/usr/lib64/python3.11/asyncio/events.py\", line 80, in _run\n      self._context.run(self._callback, *self._args)\n    File \"/home/sudokit/Documents/College/Engineering/S6/BIAI/GANs/venv/lib64/python3.11/site-packages/ipykernel/kernelbase.py\", line 513, in dispatch_queue\n      await self.process_one()\n    File \"/home/sudokit/Documents/College/Engineering/S6/BIAI/GANs/venv/lib64/python3.11/site-packages/ipykernel/kernelbase.py\", line 502, in process_one\n      await dispatch(*args)\n    File \"/home/sudokit/Documents/College/Engineering/S6/BIAI/GANs/venv/lib64/python3.11/site-packages/ipykernel/kernelbase.py\", line 409, in dispatch_shell\n      await result\n    File \"/home/sudokit/Documents/College/Engineering/S6/BIAI/GANs/venv/lib64/python3.11/site-packages/ipykernel/kernelbase.py\", line 729, in execute_request\n      reply_content = await reply_content\n    File \"/home/sudokit/Documents/College/Engineering/S6/BIAI/GANs/venv/lib64/python3.11/site-packages/ipykernel/ipkernel.py\", line 422, in do_execute\n      res = shell.run_cell(\n    File \"/home/sudokit/Documents/College/Engineering/S6/BIAI/GANs/venv/lib64/python3.11/site-packages/ipykernel/zmqshell.py\", line 540, in run_cell\n      return super().run_cell(*args, **kwargs)\n    File \"/home/sudokit/Documents/College/Engineering/S6/BIAI/GANs/venv/lib64/python3.11/site-packages/IPython/core/interactiveshell.py\", line 3009, in run_cell\n      result = self._run_cell(\n    File \"/home/sudokit/Documents/College/Engineering/S6/BIAI/GANs/venv/lib64/python3.11/site-packages/IPython/core/interactiveshell.py\", line 3064, in _run_cell\n      result = runner(coro)\n    File \"/home/sudokit/Documents/College/Engineering/S6/BIAI/GANs/venv/lib64/python3.11/site-packages/IPython/core/async_helpers.py\", line 129, in _pseudo_sync_runner\n      coro.send(None)\n    File \"/home/sudokit/Documents/College/Engineering/S6/BIAI/GANs/venv/lib64/python3.11/site-packages/IPython/core/interactiveshell.py\", line 3269, in run_cell_async\n      has_raised = await self.run_ast_nodes(code_ast.body, cell_name,\n    File \"/home/sudokit/Documents/College/Engineering/S6/BIAI/GANs/venv/lib64/python3.11/site-packages/IPython/core/interactiveshell.py\", line 3448, in run_ast_nodes\n      if await self.run_code(code, result, async_=asy):\n    File \"/home/sudokit/Documents/College/Engineering/S6/BIAI/GANs/venv/lib64/python3.11/site-packages/IPython/core/interactiveshell.py\", line 3508, in run_code\n      exec(code_obj, self.user_global_ns, self.user_ns)\n    File \"/tmp/ipykernel_7705/765875614.py\", line 2, in <module>\n      cycle_gan.train(epochs=100, batch_size=64, sample_interval=10)\n    File \"/tmp/ipykernel_7705/3949875849.py\", line 19, in train\n      fake_B = self.g_AB.predict(imgs_A)\n    File \"/home/sudokit/Documents/College/Engineering/S6/BIAI/GANs/venv/lib64/python3.11/site-packages/keras/utils/traceback_utils.py\", line 65, in error_handler\n      return fn(*args, **kwargs)\n    File \"/home/sudokit/Documents/College/Engineering/S6/BIAI/GANs/venv/lib64/python3.11/site-packages/keras/engine/training.py\", line 2382, in predict\n      tmp_batch_outputs = self.predict_function(iterator)\n    File \"/home/sudokit/Documents/College/Engineering/S6/BIAI/GANs/venv/lib64/python3.11/site-packages/keras/engine/training.py\", line 2169, in predict_function\n      return step_function(self, iterator)\n    File \"/home/sudokit/Documents/College/Engineering/S6/BIAI/GANs/venv/lib64/python3.11/site-packages/keras/engine/training.py\", line 2155, in step_function\n      outputs = model.distribute_strategy.run(run_step, args=(data,))\n    File \"/home/sudokit/Documents/College/Engineering/S6/BIAI/GANs/venv/lib64/python3.11/site-packages/keras/engine/training.py\", line 2143, in run_step\n      outputs = model.predict_step(data)\n    File \"/home/sudokit/Documents/College/Engineering/S6/BIAI/GANs/venv/lib64/python3.11/site-packages/keras/engine/training.py\", line 2111, in predict_step\n      return self(x, training=False)\n    File \"/home/sudokit/Documents/College/Engineering/S6/BIAI/GANs/venv/lib64/python3.11/site-packages/keras/utils/traceback_utils.py\", line 65, in error_handler\n      return fn(*args, **kwargs)\n    File \"/home/sudokit/Documents/College/Engineering/S6/BIAI/GANs/venv/lib64/python3.11/site-packages/keras/engine/training.py\", line 558, in __call__\n      return super().__call__(*args, **kwargs)\n    File \"/home/sudokit/Documents/College/Engineering/S6/BIAI/GANs/venv/lib64/python3.11/site-packages/keras/utils/traceback_utils.py\", line 65, in error_handler\n      return fn(*args, **kwargs)\n    File \"/home/sudokit/Documents/College/Engineering/S6/BIAI/GANs/venv/lib64/python3.11/site-packages/keras/engine/base_layer.py\", line 1145, in __call__\n      outputs = call_fn(inputs, *args, **kwargs)\n    File \"/home/sudokit/Documents/College/Engineering/S6/BIAI/GANs/venv/lib64/python3.11/site-packages/keras/utils/traceback_utils.py\", line 96, in error_handler\n      return fn(*args, **kwargs)\n    File \"/home/sudokit/Documents/College/Engineering/S6/BIAI/GANs/venv/lib64/python3.11/site-packages/keras/engine/functional.py\", line 512, in call\n      return self._run_internal_graph(inputs, training=training, mask=mask)\n    File \"/home/sudokit/Documents/College/Engineering/S6/BIAI/GANs/venv/lib64/python3.11/site-packages/keras/engine/functional.py\", line 669, in _run_internal_graph\n      outputs = node.layer(*args, **kwargs)\n    File \"/home/sudokit/Documents/College/Engineering/S6/BIAI/GANs/venv/lib64/python3.11/site-packages/keras/utils/traceback_utils.py\", line 65, in error_handler\n      return fn(*args, **kwargs)\n    File \"/home/sudokit/Documents/College/Engineering/S6/BIAI/GANs/venv/lib64/python3.11/site-packages/keras/engine/base_layer.py\", line 1145, in __call__\n      outputs = call_fn(inputs, *args, **kwargs)\n    File \"/home/sudokit/Documents/College/Engineering/S6/BIAI/GANs/venv/lib64/python3.11/site-packages/keras/utils/traceback_utils.py\", line 96, in error_handler\n      return fn(*args, **kwargs)\n    File \"/home/sudokit/Documents/College/Engineering/S6/BIAI/GANs/venv/lib64/python3.11/site-packages/keras/layers/convolutional/base_conv.py\", line 290, in call\n      outputs = self.convolution_op(inputs, self.kernel)\n    File \"/home/sudokit/Documents/College/Engineering/S6/BIAI/GANs/venv/lib64/python3.11/site-packages/keras/layers/convolutional/base_conv.py\", line 262, in convolution_op\n      return tf.nn.convolution(\nNode: 'model_2/conv2d_10/Conv2D'\nDNN library is not found.\n\t [[{{node model_2/conv2d_10/Conv2D}}]] [Op:__inference_predict_function_2792]"
     ]
    }
   ],
   "source": [
    "cycle_gan = CycleGAN()\n",
    "cycle_gan.train(epochs=100, batch_size=64, sample_interval=10)"
   ]
  },
  {
   "cell_type": "code",
   "execution_count": null,
   "id": "2d324267",
   "metadata": {},
   "outputs": [],
   "source": []
  }
 ],
 "metadata": {
  "kernelspec": {
   "display_name": "Python 3 (ipykernel)",
   "language": "python",
   "name": "python3"
  },
  "language_info": {
   "codemirror_mode": {
    "name": "ipython",
    "version": 3
   },
   "file_extension": ".py",
   "mimetype": "text/x-python",
   "name": "python",
   "nbconvert_exporter": "python",
   "pygments_lexer": "ipython3",
   "version": "3.11.3"
  }
 },
 "nbformat": 4,
 "nbformat_minor": 5
}
