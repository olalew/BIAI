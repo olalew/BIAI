{
 "cells": [
  {
   "cell_type": "code",
   "execution_count": 1,
   "id": "a91c77fd",
   "metadata": {},
   "outputs": [
    {
     "name": "stdout",
     "output_type": "stream",
     "text": [
      "Collecting git+https://www.github.com/keras-team/keras-contrib.git\n",
      "  Cloning https://www.github.com/keras-team/keras-contrib.git to /tmp/pip-req-build-ctt5y9fs\n",
      "  Running command git clone --filter=blob:none --quiet https://www.github.com/keras-team/keras-contrib.git /tmp/pip-req-build-ctt5y9fs\n",
      "  warning: redirecting to https://github.com/keras-team/keras-contrib.git/\n",
      "  Resolved https://www.github.com/keras-team/keras-contrib.git to commit 3fc5ef709e061416f4bc8a92ca3750c824b5d2b0\n",
      "  Preparing metadata (setup.py) ... \u001b[?25ldone\n",
      "\u001b[?25hRequirement already satisfied: keras in ./venv/lib64/python3.11/site-packages (from keras-contrib==2.0.8) (2.12.0)\n"
     ]
    }
   ],
   "source": [
    "!pip install git+https://www.github.com/keras-team/keras-contrib.git"
   ]
  },
  {
   "cell_type": "code",
   "execution_count": 2,
   "id": "f6026da1",
   "metadata": {},
   "outputs": [
    {
     "name": "stdout",
     "output_type": "stream",
     "text": [
      "Requirement already satisfied: dataloader in ./venv/lib64/python3.11/site-packages (2.0)\r\n"
     ]
    }
   ],
   "source": [
    "!pip install dataloader"
   ]
  },
  {
   "cell_type": "code",
   "execution_count": 3,
   "id": "3a65cf04",
   "metadata": {},
   "outputs": [
    {
     "name": "stdout",
     "output_type": "stream",
     "text": [
      "Requirement already satisfied: imageio in ./venv/lib64/python3.11/site-packages (2.29.0)\r\n",
      "Requirement already satisfied: numpy in ./venv/lib64/python3.11/site-packages (from imageio) (1.23.5)\r\n",
      "Requirement already satisfied: pillow>=8.3.2 in ./venv/lib64/python3.11/site-packages (from imageio) (9.5.0)\r\n"
     ]
    }
   ],
   "source": [
    "!pip install imageio"
   ]
  },
  {
   "cell_type": "code",
   "execution_count": 4,
   "id": "60284ec9",
   "metadata": {},
   "outputs": [
    {
     "name": "stdout",
     "output_type": "stream",
     "text": [
      "Requirement already satisfied: matplotlib in ./venv/lib64/python3.11/site-packages (3.7.1)\n",
      "Requirement already satisfied: contourpy>=1.0.1 in ./venv/lib64/python3.11/site-packages (from matplotlib) (1.0.7)\n",
      "Requirement already satisfied: cycler>=0.10 in ./venv/lib64/python3.11/site-packages (from matplotlib) (0.11.0)\n",
      "Requirement already satisfied: fonttools>=4.22.0 in ./venv/lib64/python3.11/site-packages (from matplotlib) (4.39.4)\n",
      "Requirement already satisfied: kiwisolver>=1.0.1 in ./venv/lib64/python3.11/site-packages (from matplotlib) (1.4.4)\n",
      "Requirement already satisfied: numpy>=1.20 in ./venv/lib64/python3.11/site-packages (from matplotlib) (1.23.5)\n",
      "Requirement already satisfied: packaging>=20.0 in ./venv/lib64/python3.11/site-packages (from matplotlib) (23.1)\n",
      "Requirement already satisfied: pillow>=6.2.0 in ./venv/lib64/python3.11/site-packages (from matplotlib) (9.5.0)\n",
      "Requirement already satisfied: pyparsing>=2.3.1 in ./venv/lib64/python3.11/site-packages (from matplotlib) (3.0.9)\n",
      "Requirement already satisfied: python-dateutil>=2.7 in ./venv/lib64/python3.11/site-packages (from matplotlib) (2.8.2)\n",
      "Requirement already satisfied: six>=1.5 in ./venv/lib64/python3.11/site-packages (from python-dateutil>=2.7->matplotlib) (1.16.0)\n",
      "Requirement already satisfied: scipy in ./venv/lib64/python3.11/site-packages (1.10.1)\n",
      "Requirement already satisfied: numpy<1.27.0,>=1.19.5 in ./venv/lib64/python3.11/site-packages (from scipy) (1.23.5)\n",
      "Collecting skimage\n",
      "  Using cached skimage-0.0.tar.gz (757 bytes)\n",
      "  Preparing metadata (setup.py) ... \u001b[?25lerror\n",
      "  \u001b[1;31merror\u001b[0m: \u001b[1msubprocess-exited-with-error\u001b[0m\n",
      "  \n",
      "  \u001b[31m×\u001b[0m \u001b[32mpython setup.py egg_info\u001b[0m did not run successfully.\n",
      "  \u001b[31m│\u001b[0m exit code: \u001b[1;36m1\u001b[0m\n",
      "  \u001b[31m╰─>\u001b[0m \u001b[31m[3 lines of output]\u001b[0m\n",
      "  \u001b[31m   \u001b[0m \n",
      "  \u001b[31m   \u001b[0m *** Please install the `scikit-image` package (instead of `skimage`) ***\n",
      "  \u001b[31m   \u001b[0m \n",
      "  \u001b[31m   \u001b[0m \u001b[31m[end of output]\u001b[0m\n",
      "  \n",
      "  \u001b[1;35mnote\u001b[0m: This error originates from a subprocess, and is likely not a problem with pip.\n",
      "\u001b[1;31merror\u001b[0m: \u001b[1mmetadata-generation-failed\u001b[0m\n",
      "\n",
      "\u001b[31m×\u001b[0m Encountered error while generating package metadata.\n",
      "\u001b[31m╰─>\u001b[0m See above for output.\n",
      "\n",
      "\u001b[1;35mnote\u001b[0m: This is an issue with the package mentioned above, not pip.\n",
      "\u001b[1;36mhint\u001b[0m: See above for details.\n",
      "\u001b[?25h"
     ]
    }
   ],
   "source": [
    "!pip install matplotlib\n",
    "!pip install scipy\n",
    "!pip install skimage"
   ]
  },
  {
   "cell_type": "markdown",
   "id": "4a690cb1",
   "metadata": {},
   "source": [
    "## Play with paths"
   ]
  },
  {
   "cell_type": "code",
   "execution_count": 5,
   "id": "9b7acf6b",
   "metadata": {},
   "outputs": [],
   "source": [
    "import glob"
   ]
  },
  {
   "cell_type": "code",
   "execution_count": 31,
   "id": "829f7ba5",
   "metadata": {},
   "outputs": [
    {
     "name": "stdout",
     "output_type": "stream",
     "text": [
      "['./datasets/youngOld/other/50_cent', './datasets/youngOld/other/aaliyah', './datasets/youngOld/other/aaron_paul', './datasets/youngOld/other/abigail_breslin', './datasets/youngOld/other/adam_levine', './datasets/youngOld/other/adam_sandler', './datasets/youngOld/other/adele', './datasets/youngOld/other/adolf_hitler', './datasets/youngOld/other/adriana_lima', './datasets/youngOld/other/adriano_pantaleo', './datasets/youngOld/other/agniya_ditkovskite', './datasets/youngOld/other/agyness_deyn', './datasets/youngOld/other/aidan_gillen', './datasets/youngOld/other/alain_delon', './datasets/youngOld/other/alain_vodonaeva', './datasets/youngOld/other/alanna_masterson', './datasets/youngOld/other/alan_rickman', './datasets/youngOld/other/albert_einstein', './datasets/youngOld/other/alberto_gilardino', './datasets/youngOld/other/alec_guinness', './datasets/youngOld/other/alejandro_bedoya', './datasets/youngOld/other/alessandra_ambrosio', './datasets/youngOld/other/alessandro_del_piero', './datasets/youngOld/other/alessandro_nesta', './datasets/youngOld/other/alessia_marcuzzi', './datasets/youngOld/other/alexa_chung', './datasets/youngOld/other/alexander_cekalo', './datasets/youngOld/other/alexander_domogarov', './datasets/youngOld/other/alexander_kerzhakov', './datasets/youngOld/other/alexander_nezlobin', './datasets/youngOld/other/alexander_revva', './datasets/youngOld/other/alexander_rybak', './datasets/youngOld/other/alexa_penvega', './datasets/youngOld/other/alex_d_linz', './datasets/youngOld/other/alexei_chadov', './datasets/youngOld/other/alexei_navalny', './datasets/youngOld/other/alexei_panin', './datasets/youngOld/other/alexis_bledel', './datasets/youngOld/other/alfonso_ribeiro', './datasets/youngOld/other/alfred_hitchcook', './datasets/youngOld/other/alice_cooper', './datasets/youngOld/other/alicia_keys', './datasets/youngOld/other/alicia_silverstone', './datasets/youngOld/other/alina_kabaeva', './datasets/youngOld/other/aline_weber', './datasets/youngOld/other/alison_stone', './datasets/youngOld/other/alla_pugacheva', './datasets/youngOld/other/al_pacino', './datasets/youngOld/other/alyson_hannigan', './datasets/youngOld/other/alyssa_milano', './datasets/youngOld/other/alyssa_miller', './datasets/youngOld/other/amanda_seyfried', './datasets/youngOld/other/amber_tamblyn', './datasets/youngOld/other/amy_lee', './datasets/youngOld/other/amy_poehler', './datasets/youngOld/other/amy_winehouse', './datasets/youngOld/other/ana_beatriz_barros', './datasets/youngOld/other/anastasia_slanevskaya', './datasets/youngOld/other/anastasia_zavorotnyuk', './datasets/youngOld/other/anatoly_chubais', './datasets/youngOld/other/andrea_balestri', './datasets/youngOld/other/andrea_casiraghi', './datasets/youngOld/other/andre_agassi', './datasets/youngOld/other/andrea_pirlo', './datasets/youngOld/other/andrei_krasko', './datasets/youngOld/other/andrei_makarevich', './datasets/youngOld/other/andrei_malakhov', './datasets/youngOld/other/andrei_panin', './datasets/youngOld/other/andrew_fedortsov', './datasets/youngOld/other/andrew_garfield', './datasets/youngOld/other/andrew_lincoln', './datasets/youngOld/other/andrew_ridgeley', './datasets/youngOld/other/andrew_scott', './datasets/youngOld/other/andrij_schevchenko', './datasets/youngOld/other/andy_san_dimas', './datasets/youngOld/other/anfisa_chekhova', './datasets/youngOld/other/angele_lindvall', './datasets/youngOld/other/angelina_jolie', './datasets/youngOld/other/anja_rubik', './datasets/youngOld/other/anjelica_huston', './datasets/youngOld/other/anna_chlumsky', './datasets/youngOld/other/anna_kournikova', './datasets/youngOld/other/anna_paquin', './datasets/youngOld/other/anna_selezneva', './datasets/youngOld/other/anna_semenovich', './datasets/youngOld/other/anne_hathaway', './datasets/youngOld/other/annette_charles', './datasets/youngOld/other/anne_vyalitsyna', './datasets/youngOld/other/anthony_hopkins', './datasets/youngOld/other/antonio_banderas', './datasets/youngOld/other/antonio_cassano', './datasets/youngOld/other/ariana_richards', './datasets/youngOld/other/arizona_muse', './datasets/youngOld/other/arnold_schwarzenegger', './datasets/youngOld/other/aron_johannsson', './datasets/youngOld/other/arthur_smoljaninov', './datasets/youngOld/other/asa_butterfield', './datasets/youngOld/other/ashley_benson', './datasets/youngOld/other/ashli_orion', './datasets/youngOld/other/ashton_kutcher', './datasets/youngOld/other/asia_carrera', './datasets/youngOld/other/audrey_hepburn', './datasets/youngOld/other/avril_lavigne', './datasets/youngOld/other/axl_rose', './datasets/youngOld/other/aymeline_valade', './datasets/youngOld/other/ayrton_senna', './datasets/youngOld/other/barack_obama', './datasets/youngOld/other/barbara_d_urso', './datasets/youngOld/other/barbara_eden', './datasets/youngOld/other/barbara_fialho', './datasets/youngOld/other/barbra_streisand', './datasets/youngOld/other/bar_rafaeli', './datasets/youngOld/other/barry_pearl', './datasets/youngOld/other/behati_prinsloo', './datasets/youngOld/other/belen_rodriguez', './datasets/youngOld/other/belladonna', './datasets/youngOld/other/ben_affleck', './datasets/youngOld/other/benedict_cumberbatch', './datasets/youngOld/other/ben_stiller', './datasets/youngOld/other/bette_franke', './datasets/youngOld/other/beyonce_knowles', './datasets/youngOld/other/bianca_balti', './datasets/youngOld/other/big_sean', './datasets/youngOld/other/bill_clinton', './datasets/youngOld/other/bill_gates', './datasets/youngOld/other/billie_joe_armstrong', './datasets/youngOld/other/bill_murray', './datasets/youngOld/other/billy_bob_thornton', './datasets/youngOld/other/billy_dee_williams', './datasets/youngOld/other/bingbing_fan', './datasets/youngOld/other/bjork', './datasets/youngOld/other/blake_lively', './datasets/youngOld/other/blanca_padilla', './datasets/youngOld/other/bob_marley', './datasets/youngOld/other/bob_odenkirk', './datasets/youngOld/other/bo_derek', './datasets/youngOld/other/bonnie_wright', './datasets/youngOld/other/bono', './datasets/youngOld/other/boris_eltsin', './datasets/youngOld/other/bow_wow', './datasets/youngOld/other/bradley_cooper', './datasets/youngOld/other/brad_pitt', './datasets/youngOld/other/bree_olson', './datasets/youngOld/other/bregje_heinen', './datasets/youngOld/other/brenda_asnicar', './datasets/youngOld/other/brian_bonsall', './datasets/youngOld/other/brigitte_bardot', './datasets/youngOld/other/brigitte_nielsen', './datasets/youngOld/other/britney_spears', './datasets/youngOld/other/brittany_murphy', './datasets/youngOld/other/brooke_shields', './datasets/youngOld/other/bruce_dickinson', './datasets/youngOld/other/bruce_lee', './datasets/youngOld/other/bruce_springsteen', './datasets/youngOld/other/bruce_willis', './datasets/youngOld/other/bruno_mars', './datasets/youngOld/other/bryan_cranston', './datasets/youngOld/other/burt_rreynolds', './datasets/youngOld/other/calista_flockhart', './datasets/youngOld/other/cameron_diaz', './datasets/youngOld/other/camille_rowe', './datasets/youngOld/other/candace_cameron', './datasets/youngOld/other/candice_swanepoel', './datasets/youngOld/other/carla_bruni', './datasets/youngOld/other/carlos_moya', './datasets/youngOld/other/carmelo_anthony', './datasets/youngOld/other/carol_alt', './datasets/youngOld/other/carolyn_murphy', './datasets/youngOld/other/carre_otis', './datasets/youngOld/other/carrie_fisher', './datasets/youngOld/other/carrie_henn', './datasets/youngOld/other/casey_affleck', './datasets/youngOld/other/casey_stoner', './datasets/youngOld/other/catherine_back', './datasets/youngOld/other/catherine_mcneil', './datasets/youngOld/other/catherine_zeta_jones', './datasets/youngOld/other/cathy_pryce', './datasets/youngOld/other/celine_dion', './datasets/youngOld/other/chad_lindberg', './datasets/youngOld/other/chad_lowe', './datasets/youngOld/other/chandler_riggs', './datasets/youngOld/other/chanel_iman', './datasets/youngOld/other/channing_tatum', './datasets/youngOld/other/charles_chaplin', './datasets/youngOld/other/charles_dance', './datasets/youngOld/other/charlie_sheen', './datasets/youngOld/other/charlie_watts', './datasets/youngOld/other/charlize_theron', './datasets/youngOld/other/charlotte_casiraghi', './datasets/youngOld/other/charlotte_free', './datasets/youngOld/other/charlotte_rampling', './datasets/youngOld/other/chauncey_billups', './datasets/youngOld/other/chelsea_handler', './datasets/youngOld/other/cher', './datasets/youngOld/other/chester_bennington', './datasets/youngOld/other/chloe_grace_moretz', './datasets/youngOld/other/chris_evans', './datasets/youngOld/other/chris_hemsworth', './datasets/youngOld/other/christian_bale', './datasets/youngOld/other/christina_aguilera', './datasets/youngOld/other/christina_ricci', './datasets/youngOld/other/christopher_atkins', './datasets/youngOld/other/christopher_lee', './datasets/youngOld/other/christopher_lloyd', './datasets/youngOld/other/christopher_nolan', './datasets/youngOld/other/christopher_walken', './datasets/youngOld/other/christoph_waltz', './datasets/youngOld/other/christy_turlington', './datasets/youngOld/other/chuck_norris', './datasets/youngOld/other/cindy_crawford', './datasets/youngOld/other/claudia_schiffer', './datasets/youngOld/other/claudio_marchisio', './datasets/youngOld/other/clint_eastwood', './datasets/youngOld/other/cobie_smulders', './datasets/youngOld/other/colin_farrell', './datasets/youngOld/other/constance_jablonski', './datasets/youngOld/other/courtney_cox', './datasets/youngOld/other/courtney_love', './datasets/youngOld/other/cristiano_ronaldo', './datasets/youngOld/other/cristian_vieri', './datasets/youngOld/other/cuba_gooding_jr', './datasets/youngOld/other/cybill_sheperd', './datasets/youngOld/other/dakota_fanning', './datasets/youngOld/other/dalma_callado', './datasets/youngOld/other/dana_dearmond', './datasets/youngOld/other/danica_mckellar', './datasets/youngOld/other/daniel_craig', './datasets/youngOld/other/daniele_de_rossi', './datasets/youngOld/other/danielle_fishel', './datasets/youngOld/other/daniel_radcliffe', './datasets/youngOld/other/danila_kozlovsky', './datasets/youngOld/other/danny_devito', './datasets/youngOld/other/daria_strokous', './datasets/youngOld/other/daryl_hannah', './datasets/youngOld/other/daryl_sabara', './datasets/youngOld/other/daveigh_chase', './datasets/youngOld/other/david_beckham', './datasets/youngOld/other/david_bowie', './datasets/youngOld/other/david_duchovny', './datasets/youngOld/other/david_ferrer', './datasets/youngOld/other/david_fincher', './datasets/youngOld/other/david_henrie', './datasets/youngOld/other/david_lynch', './datasets/youngOld/other/david_schwimmer', './datasets/youngOld/other/david_soul', './datasets/youngOld/other/deandre_yedlin', './datasets/youngOld/other/dean_norris', './datasets/youngOld/other/debra_messing', './datasets/youngOld/other/delta_goodrem', './datasets/youngOld/other/demi_moore', './datasets/youngOld/other/demis_caribbean', './datasets/youngOld/other/denise_richards', './datasets/youngOld/other/denzel_washington', './datasets/youngOld/other/devin_ratray', './datasets/youngOld/other/devon_windsor', './datasets/youngOld/other/diamond_foxxx', './datasets/youngOld/other/diane_kruger', './datasets/youngOld/other/dick_van_patten', './datasets/youngOld/other/diego_armando_maradona', './datasets/youngOld/other/dima_bilan', './datasets/youngOld/other/dinah_manoff', './datasets/youngOld/other/dita_von_teese', './datasets/youngOld/other/dmitry_kharatyan', './datasets/youngOld/other/dmitry_medvedev', './datasets/youngOld/other/dolly_parton', './datasets/youngOld/other/dolph_lundgren', './datasets/youngOld/other/dominic_monaghan', './datasets/youngOld/other/donald_faison', './datasets/youngOld/other/donatella_versace', './datasets/youngOld/other/doutzen_kroes', './datasets/youngOld/other/drake', './datasets/youngOld/other/dr_dre', './datasets/youngOld/other/dree_hemingway', './datasets/youngOld/other/drew_barrymore', './datasets/youngOld/other/dustin_diamond', './datasets/youngOld/other/dustin_hoffman', './datasets/youngOld/other/dwayne_johnson', './datasets/youngOld/other/dwyana_wade', './datasets/youngOld/other/eddie_deezen', './datasets/youngOld/other/eddie_lizzard', './datasets/youngOld/other/eddie_murphy', './datasets/youngOld/other/ed_helms', './datasets/youngOld/other/edith_piaf', './datasets/youngOld/other/edward_furlong', './datasets/youngOld/other/edward_james_olmos', './datasets/youngOld/other/edward_norton', './datasets/youngOld/other/elena_berkova', './datasets/youngOld/other/elena_koricova', './datasets/youngOld/other/elena_santarelli', './datasets/youngOld/other/elena_yakovleva', './datasets/youngOld/other/elijah_wood', './datasets/youngOld/other/elio_germano', './datasets/youngOld/other/elisabeth_hasselbeck', './datasets/youngOld/other/elisabetta_canalis', './datasets/youngOld/other/elizabeth_banks', './datasets/youngOld/other/elizabeth_mitchell', './datasets/youngOld/other/elizabeth_shannon', './datasets/youngOld/other/elizabeth_shue', './datasets/youngOld/other/eliza_dushku', './datasets/youngOld/other/elle_macpherson', './datasets/youngOld/other/ellen_burstyn', './datasets/youngOld/other/ellen_degeneres', './datasets/youngOld/other/ellen_page', './datasets/youngOld/other/elton_john', './datasets/youngOld/other/elvis_presley', './datasets/youngOld/other/emilie_de_ravin', './datasets/youngOld/other/emily_ratajkowski', './datasets/youngOld/other/eminem', './datasets/youngOld/other/emmanuelle_chirqui', './datasets/youngOld/other/emma_roberts', './datasets/youngOld/other/emma_stone', './datasets/youngOld/other/emma_watson', './datasets/youngOld/other/eniko_mihalik', './datasets/youngOld/other/erik_estrada', './datasets/youngOld/other/ernesto_che_guevara', './datasets/youngOld/other/eros_ramazzotti', './datasets/youngOld/other/ethan_hawek', './datasets/youngOld/other/eugene_grishkovec', './datasets/youngOld/other/eva_herzigova', './datasets/youngOld/other/eva_longoria', './datasets/youngOld/other/eva_mendes', './datasets/youngOld/other/evangeline_lilly', './datasets/youngOld/other/evan_peters', './datasets/youngOld/other/evelyn_bledans', './datasets/youngOld/other/evgeni_plushenko', './datasets/youngOld/other/ewan_mcgregor', './datasets/youngOld/other/exhibit', './datasets/youngOld/other/fabio_cannavaro', './datasets/youngOld/other/farrah_fawcett', './datasets/youngOld/other/federica_moro', './datasets/youngOld/other/fedor_dobronravov', './datasets/youngOld/other/fedor_emelianenko', './datasets/youngOld/other/fei_fei_sun', './datasets/youngOld/other/felix_kjellberg_(pewdiepie)', './datasets/youngOld/other/fergie', './datasets/youngOld/other/fernando_torres', './datasets/youngOld/other/fernando_verdasco', './datasets/youngOld/other/filippa_lagerback', './datasets/youngOld/other/filipp_kirkorov', './datasets/youngOld/other/francesco_totti', './datasets/youngOld/other/francis_ford_coppola', './datasets/youngOld/other/fran_drescher', './datasets/youngOld/other/frankie_muniz', './datasets/youngOld/other/freddie_highmore', './datasets/youngOld/other/freddie_mercury', './datasets/youngOld/other/fred_savage', './datasets/youngOld/other/fyodor_bondarchuk', './datasets/youngOld/other/gabrielle_carteris', './datasets/youngOld/other/garik_kharlamov', './datasets/youngOld/other/garik_martirosyan', './datasets/youngOld/other/gary_coleman', './datasets/youngOld/other/gary_oldman', './datasets/youngOld/other/gavin_macleod', './datasets/youngOld/other/gene_simmons', './datasets/youngOld/other/genevieve_padalecki', './datasets/youngOld/other/george_clooney', './datasets/youngOld/other/george_h_w_bush', './datasets/youngOld/other/george_lucas', './datasets/youngOld/other/george_michael', './datasets/youngOld/other/george_w_bush', './datasets/youngOld/other/georgia_may_jagger', './datasets/youngOld/other/giancarlo_esposito', './datasets/youngOld/other/gigi_buffon', './datasets/youngOld/other/gillian_anderson', './datasets/youngOld/other/ginta_lapina', './datasets/youngOld/other/giorgio_cantarini', './datasets/youngOld/other/giovanni_ribisi', './datasets/youngOld/other/gisele_bundchen', './datasets/youngOld/other/gosha_kutsenko', './datasets/youngOld/other/graham_zusi', './datasets/youngOld/other/guf', './datasets/youngOld/other/gwen_stefani', './datasets/youngOld/other/gwyneth_paltrow', './datasets/youngOld/other/haley_joel_osment', './datasets/youngOld/other/halle_berry', './datasets/youngOld/other/harrison_ford', './datasets/youngOld/other/harry_styles', './datasets/youngOld/other/hayden_christensen', './datasets/youngOld/other/hayden_panettiere', './datasets/youngOld/other/hayley_williams', './datasets/youngOld/other/heather_locklear', './datasets/youngOld/other/heath_ledger', './datasets/youngOld/other/heidi_klum', './datasets/youngOld/other/heidi_montag', './datasets/youngOld/other/helena_bonham_carter', './datasets/youngOld/other/helena_christensen', './datasets/youngOld/other/helen_hunt', './datasets/youngOld/other/henry_ian_cusick', './datasets/youngOld/other/henry_winkler', './datasets/youngOld/other/hilary_duff', './datasets/youngOld/other/holly_marie_combs', './datasets/youngOld/other/hugh_dancy', './datasets/youngOld/other/hugh_jackman', './datasets/youngOld/other/hugh_laurie', './datasets/youngOld/other/hulk_hogan', './datasets/youngOld/other/iain_glen', './datasets/youngOld/other/ian_harding', './datasets/youngOld/other/ian_mcdiarmid', './datasets/youngOld/other/ian_mckellen', './datasets/youngOld/other/ian_somerhalder', './datasets/youngOld/other/ice_cube', './datasets/youngOld/other/ieva_laguna', './datasets/youngOld/other/iggy_pop', './datasets/youngOld/other/igor_petrenko', './datasets/youngOld/other/iker_casillas', './datasets/youngOld/other/ilary_blasi', './datasets/youngOld/other/iman', './datasets/youngOld/other/ines_de_la_fressange', './datasets/youngOld/other/inger_nilsson', './datasets/youngOld/other/iris_strubegger', './datasets/youngOld/other/isabeli_fontana', './datasets/youngOld/other/iselin_steiro', './datasets/youngOld/other/ivan_ohlobystin', './datasets/youngOld/other/ivan_urgant', './datasets/youngOld/other/izabel_goulart', './datasets/youngOld/other/jack_black', './datasets/youngOld/other/jack_gleeson', './datasets/youngOld/other/jackie_chan', './datasets/youngOld/other/jack_nicholson', './datasets/youngOld/other/jaclyn_smith', './datasets/youngOld/other/jaimee_foxworth', './datasets/youngOld/other/jake_gyllenhaal', './datasets/youngOld/other/jake_lloyd', './datasets/youngOld/other/jaleel_white', './datasets/youngOld/other/james_cameron', './datasets/youngOld/other/james_carter', './datasets/youngOld/other/james_franco', './datasets/youngOld/other/james_hetfield', './datasets/youngOld/other/jamie_bell', './datasets/youngOld/other/jamie_donnelly', './datasets/youngOld/other/jamie_foxx', './datasets/youngOld/other/jamie_lee_curtis', './datasets/youngOld/other/jane_fonda', './datasets/youngOld/other/janet_jackson', './datasets/youngOld/other/janice_dickinson', './datasets/youngOld/other/janko_tipsarevic', './datasets/youngOld/other/jan_tsapnik', './datasets/youngOld/other/january_jones', './datasets/youngOld/other/jared_leto', './datasets/youngOld/other/jared_padalecki', './datasets/youngOld/other/jasmine_tookes', './datasets/youngOld/other/jason_bateman', './datasets/youngOld/other/jason_biggs', './datasets/youngOld/other/jason_momoa', './datasets/youngOld/other/jason_priestley', './datasets/youngOld/other/jason_segel', './datasets/youngOld/other/jason_statham', './datasets/youngOld/other/jay_z', './datasets/youngOld/other/jean_claude_van_damme', './datasets/youngOld/other/jean_reno', './datasets/youngOld/other/jeff_cohen', './datasets/youngOld/other/jeff_conaway', './datasets/youngOld/other/jeffrey_dean_morgan', './datasets/youngOld/other/jenna_jameson', './datasets/youngOld/other/jenna_von_oy', './datasets/youngOld/other/jennie_garth', './datasets/youngOld/other/jennifer_aniston', './datasets/youngOld/other/jennifer_carpenter', './datasets/youngOld/other/jennifer_connelly', './datasets/youngOld/other/jennifer_garner', './datasets/youngOld/other/jennifer_lawrence', './datasets/youngOld/other/jennifer_lopez', './datasets/youngOld/other/jennifer_love_hewitt', './datasets/youngOld/other/jennifer_morrison', './datasets/youngOld/other/jenny_lewis', './datasets/youngOld/other/jenny_mccarthy', './datasets/youngOld/other/jensen_ackles', './datasets/youngOld/other/jeremy_piven', './datasets/youngOld/other/jeremy_renner', './datasets/youngOld/other/jerry_hall', './datasets/youngOld/other/jerry_oconnell', './datasets/youngOld/other/jesse_eisenberg', './datasets/youngOld/other/jesse_jane', './datasets/youngOld/other/jesse_plemons', './datasets/youngOld/other/jesse_spencer', './datasets/youngOld/other/jessica_alba', './datasets/youngOld/other/jessica_biel', './datasets/youngOld/other/jessica_chastain', './datasets/youngOld/other/jessica_jaymes', './datasets/youngOld/other/jessica_simpson', './datasets/youngOld/other/jessie_j', './datasets/youngOld/other/jesy_nelson', './datasets/youngOld/other/jet_li', './datasets/youngOld/other/jim_beaver', './datasets/youngOld/other/jim_carrey', './datasets/youngOld/other/jimmy_smits', './datasets/youngOld/other/jimmy_workman', './datasets/youngOld/other/jim_parsons', './datasets/youngOld/other/j_j_abrams', './datasets/youngOld/other/joan_smalls', './datasets/youngOld/other/joaquin_phoenix', './datasets/youngOld/other/jodie_foster', './datasets/youngOld/other/jodie_sweetin', './datasets/youngOld/other/joe_dassin', './datasets/youngOld/other/john_bon_jovi', './datasets/youngOld/other/john_connor', './datasets/youngOld/other/john_kennedy', './datasets/youngOld/other/john_lennon', './datasets/youngOld/other/john_lithgow', './datasets/youngOld/other/johnny_cash', './datasets/youngOld/other/johnny_depp', './datasets/youngOld/other/johnny_galecki', './datasets/youngOld/other/johnny_knoxville', './datasets/youngOld/other/johnny_rotten', './datasets/youngOld/other/john_stamos', './datasets/youngOld/other/john_travolta', './datasets/youngOld/other/jonah_hill', './datasets/youngOld/other/jonathan_banks', './datasets/youngOld/other/jonathan-lipnicki', './datasets/youngOld/other/jon_bernthal', './datasets/youngOld/other/jordana_brewster', './datasets/youngOld/other/jose_mourinho', './datasets/youngOld/other/joseph_gilgun', './datasets/youngOld/other/joseph_gordon_levitt', './datasets/youngOld/other/joseph_stalin', './datasets/youngOld/other/josh_duhamel', './datasets/youngOld/other/josh_hartnett', './datasets/youngOld/other/josh_holloway', './datasets/youngOld/other/josh_hutcherson', './datasets/youngOld/other/josh_radnor', './datasets/youngOld/other/jourdan_dunn', './datasets/youngOld/other/jude_law', './datasets/youngOld/other/judi_dench', './datasets/youngOld/other/juelz_ventura', './datasets/youngOld/other/julianne_moore', './datasets/youngOld/other/julia_roberts', './datasets/youngOld/other/julia_savicheva', './datasets/youngOld/other/julia_stegner', './datasets/youngOld/other/julia_stiles', './datasets/youngOld/other/julie_benz', './datasets/youngOld/other/justin_bieber', './datasets/youngOld/other/justin_timberlake', './datasets/youngOld/other/kaati_nescher', './datasets/youngOld/other/kabir_bedi', './datasets/youngOld/other/kaka', './datasets/youngOld/other/kaley_cuoco_sweeting', './datasets/youngOld/other/kanye_west', './datasets/youngOld/other/karen_mulder', './datasets/youngOld/other/karina_mishulina', './datasets/youngOld/other/karlie_kloss', './datasets/youngOld/other/kasia_struss', './datasets/youngOld/other/kate_beckinsale', './datasets/youngOld/other/kate_bush', './datasets/youngOld/other/kate_hudson', './datasets/youngOld/other/kate_jackson', './datasets/youngOld/other/kate_maberly', './datasets/youngOld/other/kate_middleton', './datasets/youngOld/other/kate_moss', './datasets/youngOld/other/kate_winslet', './datasets/youngOld/other/katherine_heigl', './datasets/youngOld/other/kathleen_turne', './datasets/youngOld/other/kathleen_turner', './datasets/youngOld/other/kathy_ireland', './datasets/youngOld/other/katie_cassidy', './datasets/youngOld/other/katie_holmes', './datasets/youngOld/other/katy_perry', './datasets/youngOld/other/kaya_scodelario', './datasets/youngOld/other/keanu_reeves', './datasets/youngOld/other/keegan_allen', './datasets/youngOld/other/keiko_kitagawa', './datasets/youngOld/other/keira_knightley', './datasets/youngOld/other/keith_richards', './datasets/youngOld/other/kellan_lutz', './datasets/youngOld/other/kelly_brook', './datasets/youngOld/other/kelly_clarkson', './datasets/youngOld/other/kelly_gale', './datasets/youngOld/other/kelly_lebrock', './datasets/youngOld/other/kelly_ward', './datasets/youngOld/other/keshia_knight_pulliam', './datasets/youngOld/other/kevin_bacon', './datasets/youngOld/other/kevin_smith', './datasets/youngOld/other/kid_cudi', './datasets/youngOld/other/kim_basinger', './datasets/youngOld/other/kim_kardashian', './datasets/youngOld/other/kirsten_dunst', './datasets/youngOld/other/kirstie_allen', './datasets/youngOld/other/kit_harington', './datasets/youngOld/other/konstantin_chabenskij', './datasets/youngOld/other/kristen_stewart', './datasets/youngOld/other/kristina_orbakajte', './datasets/youngOld/other/kristin_davis', './datasets/youngOld/other/kseniya_sobchak', './datasets/youngOld/other/kunal_nayyar', './datasets/youngOld/other/kurt_cobain', './datasets/youngOld/other/kurt_russell', './datasets/youngOld/other/kyle_beckerman', './datasets/youngOld/other/kylie_minogue', './datasets/youngOld/other/lady_gaga', './datasets/youngOld/other/laetitia_casta', './datasets/youngOld/other/larry_wilcox', './datasets/youngOld/other/laurence_fishburne', './datasets/youngOld/other/lauren_cohan', './datasets/youngOld/other/lauren_tewes', './datasets/youngOld/other/lauren_velez', './datasets/youngOld/other/lee_majors', './datasets/youngOld/other/lena_headey', './datasets/youngOld/other/leo_messi', './datasets/youngOld/other/leonard_nimoy', './datasets/youngOld/other/leonardo_dicaprio', './datasets/youngOld/other/leonid_gaidai', './datasets/youngOld/other/lewis_hamilton', './datasets/youngOld/other/liam_gallagher', './datasets/youngOld/other/liam_hemsworth', './datasets/youngOld/other/liam_neeson', './datasets/youngOld/other/lil_jon', './datasets/youngOld/other/lil_wayne', './datasets/youngOld/other/lily_aldridge', './datasets/youngOld/other/lily_donaldson', './datasets/youngOld/other/linda_blair', './datasets/youngOld/other/linda_evangelista', './datasets/youngOld/other/linda_gray', './datasets/youngOld/other/linda_hamilton', './datasets/youngOld/other/lindsay_ellingson', './datasets/youngOld/other/lindsay_lohan', './datasets/youngOld/other/lindsay_wagner', './datasets/youngOld/other/lisa_edelstein', './datasets/youngOld/other/lisa_kudrow', './datasets/youngOld/other/liu_wen', './datasets/youngOld/other/liv_tyler', './datasets/youngOld/other/liz_hurley', './datasets/youngOld/other/liz_taylor', './datasets/youngOld/other/lorenzo_cherubini', './datasets/youngOld/other/lorenzo_insigne', './datasets/youngOld/other/lorenzo_lamas', './datasets/youngOld/other/lori_petty', './datasets/youngOld/other/lou_ferrigno', './datasets/youngOld/other/lucas_black', './datasets/youngOld/other/lucy_hale', './datasets/youngOld/other/lucy_lawless', './datasets/youngOld/other/lucy_liu', './datasets/youngOld/other/ludacris', './datasets/youngOld/other/lyme_vajkule', './datasets/youngOld/other/lynda_carter', './datasets/youngOld/other/lyndsy_fonseca', './datasets/youngOld/other/macaulay_culkin', './datasets/youngOld/other/mackenzie_rosman', './datasets/youngOld/other/maddalena_corvaglia', './datasets/youngOld/other/madeline_zima', './datasets/youngOld/other/madonna', './datasets/youngOld/other/mads_mikkelsen', './datasets/youngOld/other/magdalena_frackowiak', './datasets/youngOld/other/maggie_grace', './datasets/youngOld/other/maggie_gyllenhaal', './datasets/youngOld/other/mahatma_gandhi', './datasets/youngOld/other/maisie_williams', './datasets/youngOld/other/malcom_david_kelley', './datasets/youngOld/other/malron_brando', './datasets/youngOld/other/mandy_moore', './datasets/youngOld/other/marat_safin', './datasets/youngOld/other/mara_wilson', './datasets/youngOld/other/marcos_baghdatis', './datasets/youngOld/other/marcy_walker', './datasets/youngOld/other/mariah_carrey', './datasets/youngOld/other/maria_poroshina', './datasets/youngOld/other/marilyn_manson', './datasets/youngOld/other/marilyn_monroe', './datasets/youngOld/other/mario_balotelli', './datasets/youngOld/other/mario_casas', './datasets/youngOld/other/mario_lopez', './datasets/youngOld/other/mariya_kozhevnikova', './datasets/youngOld/other/mark_addy', './datasets/youngOld/other/mark_gatiss', './datasets/youngOld/other/mark_hamill', './datasets/youngOld/other/mark_pellegrino', './datasets/youngOld/other/mark_rendall', './datasets/youngOld/other/mark_ruffalo', './datasets/youngOld/other/mark_sheppard', './datasets/youngOld/other/mark_wahlberg', './datasets/youngOld/other/mark_wright', './datasets/youngOld/other/mark_zuckerberg', './datasets/youngOld/other/martin_freeman', './datasets/youngOld/other/mary-kate_&_ashley_olsen', './datasets/youngOld/other/matt_damon', './datasets/youngOld/other/matthew_fox', './datasets/youngOld/other/matthew_lawrence', './datasets/youngOld/other/matthew_lewis', './datasets/youngOld/other/matthew_mcconaughey', './datasets/youngOld/other/matthew_perry', './datasets/youngOld/other/matt_leblanc', './datasets/youngOld/other/matt_o_leary', './datasets/youngOld/other/maud_welzen', './datasets/youngOld/other/maxim_averin', './datasets/youngOld/other/maxim_galkin', './datasets/youngOld/other/mayim_bialik', './datasets/youngOld/other/meat_loaf', './datasets/youngOld/other/megan_fox', './datasets/youngOld/other/mel_gibson', './datasets/youngOld/other/melissa_gilbert', './datasets/youngOld/other/melissa_rauch', './datasets/youngOld/other/melissa_satta', './datasets/youngOld/other/meryl_streep', './datasets/youngOld/other/michael_ballack', './datasets/youngOld/other/michael_caine', './datasets/youngOld/other/michael_cera', './datasets/youngOld/other/michael_c_hall', './datasets/youngOld/other/michael_douglas', './datasets/youngOld/other/michael_emerson', './datasets/youngOld/other/michael_fassbender', './datasets/youngOld/other/michael_jackson', './datasets/youngOld/other/michael_j_fox', './datasets/youngOld/other/michael_jordan', './datasets/youngOld/other/michael_oliver', './datasets/youngOld/other/michael_philip_jagger', './datasets/youngOld/other/michael_pitt', './datasets/youngOld/other/michael_porechenkov', './datasets/youngOld/other/michael_schumacher', './datasets/youngOld/other/michael_tucci', './datasets/youngOld/other/michail_bojarskij', './datasets/youngOld/other/michelle_fairley', './datasets/youngOld/other/michelle_obama', './datasets/youngOld/other/michelle_pfeiffer', './datasets/youngOld/other/michelle_rodriguez', './datasets/youngOld/other/michelle_trachtenberg', './datasets/youngOld/other/mickey_rourke', './datasets/youngOld/other/mike_shinoda', './datasets/youngOld/other/mike_tyson', './datasets/youngOld/other/mikhail_galustyan', './datasets/youngOld/other/mikhail_gorbachev', './datasets/youngOld/other/mikhail_prokhorov', './datasets/youngOld/other/mila_kunis', './datasets/youngOld/other/miley_cyrus', './datasets/youngOld/other/milla_jovovich', './datasets/youngOld/other/miranda_cosgrove', './datasets/youngOld/other/miranda_horz', './datasets/youngOld/other/miranda_kerr', './datasets/youngOld/other/misha_barton', './datasets/youngOld/other/misha_collins', './datasets/youngOld/other/molly_mccarthy', './datasets/youngOld/other/monica_bellucci', './datasets/youngOld/other/morgan_freeman', './datasets/youngOld/other/myleene_klass', './datasets/youngOld/other/nadege_du_bospertus', './datasets/youngOld/other/naomi_campbell', './datasets/youngOld/other/natalia_oreiro', './datasets/youngOld/other/natalia_vodianova', './datasets/youngOld/other/natalie_imbruglia', './datasets/youngOld/other/natalie_portman', './datasets/youngOld/other/natasha_poly', './datasets/youngOld/other/nathalie_kelley', './datasets/youngOld/other/naveen_andrews', './datasets/youngOld/other/neil_patrick_harris', './datasets/youngOld/other/nelly', './datasets/youngOld/other/neve_campbell', './datasets/youngOld/other/ne_yo', './datasets/youngOld/other/nicholas_hoult', './datasets/youngOld/other/nick_nolte', './datasets/youngOld/other/nicky_hilton', './datasets/youngOld/other/nicolas_cage', './datasets/youngOld/other/nicole_eggert', './datasets/youngOld/other/nicole_kidman', './datasets/youngOld/other/nicole_richie', './datasets/youngOld/other/nikita_dzhigurda', './datasets/youngOld/other/nikita_khrushchev', './datasets/youngOld/other/nikita_mikhalkov', './datasets/youngOld/other/niki_taylor', './datasets/youngOld/other/nikki_reed', './datasets/youngOld/other/nikki_sixx', './datasets/youngOld/other/nikolai_baskov', './datasets/youngOld/other/nikolai_fomenko', './datasets/youngOld/other/nikolai_valuev', './datasets/youngOld/other/noah_hathaway', './datasets/youngOld/other/noel_gallagher', './datasets/youngOld/other/norman_reedus', './datasets/youngOld/other/novak_djokovic', './datasets/youngOld/other/odette_annable', './datasets/youngOld/other/odette_yustman', './datasets/youngOld/other/olga_kurylenko', './datasets/youngOld/other/olivia_newton_john', './datasets/youngOld/other/omar_epps', './datasets/youngOld/other/omar_gonzalez', './datasets/youngOld/other/orlando_bloom', './datasets/youngOld/other/ozzy_osburne', './datasets/youngOld/other/pam_dawber', './datasets/youngOld/other/pamela_anderson', './datasets/youngOld/other/paolo_bonolis', './datasets/youngOld/other/paolo_maldini', './datasets/youngOld/other/paris_hilton', './datasets/youngOld/other/patrick_stewart', './datasets/youngOld/other/patrick_swayze', './datasets/youngOld/other/patsy_kensit', './datasets/youngOld/other/paulina_porizkova', './datasets/youngOld/other/paul_mccartney', './datasets/youngOld/other/paul_michael_glaser', './datasets/youngOld/other/paul_rudd', './datasets/youngOld/other/paul_walker', './datasets/youngOld/other/pavel_volya', './datasets/youngOld/other/penelope_cruz', './datasets/youngOld/other/peta_wilson', './datasets/youngOld/other/pete_doherty', './datasets/youngOld/other/peter_billingsley', './datasets/youngOld/other/peter_cushing', './datasets/youngOld/other/peter_dinklage', './datasets/youngOld/other/peter_jackson', './datasets/youngOld/other/peter_weller', './datasets/youngOld/other/pharrell_williams', './datasets/youngOld/other/phil_collins', './datasets/youngOld/other/philip_seymour_hoffman', './datasets/youngOld/other/pierce_brosnan', './datasets/youngOld/other/pierre_richard', './datasets/youngOld/other/pink', './datasets/youngOld/other/pippo_inzaghi', './datasets/youngOld/other/prince_charles', './datasets/youngOld/other/prince_harry', './datasets/youngOld/other/prince_william', './datasets/youngOld/other/quentin_tarantino', './datasets/youngOld/other/rachel_mcadams', './datasets/youngOld/other/rafa_nadal', './datasets/youngOld/other/raffaella_fico', './datasets/youngOld/other/ramzan_kadyrov', './datasets/youngOld/other/randy_couture', './datasets/youngOld/other/rashida_jones', './datasets/youngOld/other/raven_simone', './datasets/youngOld/other/ray_william_johnson', './datasets/youngOld/other/rebecca_romijn', './datasets/youngOld/other/reese_witherspoon', './datasets/youngOld/other/richard_gere', './datasets/youngOld/other/richard_grieco', './datasets/youngOld/other/rick_schroder', './datasets/youngOld/other/ricky_martin', './datasets/youngOld/other/ricky_schroder', './datasets/youngOld/other/rihanna', './datasets/youngOld/other/ringo_starr', './datasets/youngOld/other/robbie_williams', './datasets/youngOld/other/robert_de_niro', './datasets/youngOld/other/robert_downey_jr', './datasets/youngOld/other/robert_pattinson', './datasets/youngOld/other/robert_plant', './datasets/youngOld/other/robert_sean_leonard', './datasets/youngOld/other/robin_williams', './datasets/youngOld/other/rob_schneider', './datasets/youngOld/other/rod_stewart', './datasets/youngOld/other/roger_federer', './datasets/youngOld/other/roman_abramovic', './datasets/youngOld/other/roman_polanski', './datasets/youngOld/other/roman_trachtenberg', './datasets/youngOld/other/roman_yunusov', './datasets/youngOld/other/ronaldinho', './datasets/youngOld/other/ronaldo', './datasets/youngOld/other/ron_howard', './datasets/youngOld/other/rory_mccann', './datasets/youngOld/other/rose_mcgowan', './datasets/youngOld/other/rupaul', './datasets/youngOld/other/rupert_graves', './datasets/youngOld/other/rupert_grint', './datasets/youngOld/other/russell_brand', './datasets/youngOld/other/russell_crowe', './datasets/youngOld/other/russell_westbrook', './datasets/youngOld/other/ryan_gosling', './datasets/youngOld/other/ryan_reynolds', './datasets/youngOld/other/salma_hayek', './datasets/youngOld/other/samuel_l_jackson', './datasets/youngOld/other/sandra_bullock', './datasets/youngOld/other/sarah_chalke', './datasets/youngOld/other/sarah_jessica_parker', './datasets/youngOld/other/sarah_michelle_gellar', './datasets/youngOld/other/sarah_wayne_callies', './datasets/youngOld/other/sara_sampaio', './datasets/youngOld/other/sasha_grey', './datasets/youngOld/other/sasha_pieterse', './datasets/youngOld/other/scarlett_johansson', './datasets/youngOld/other/sean_astin', './datasets/youngOld/other/sean_bean', './datasets/youngOld/other/sean_connery', './datasets/youngOld/other/sean_p_diddy_combs', './datasets/youngOld/other/sean_william_scott', './datasets/youngOld/other/selena_gomez', './datasets/youngOld/other/selvaggia_lucarelli', './datasets/youngOld/other/semen_slepakov', './datasets/youngOld/other/serena_williams', './datasets/youngOld/other/sergei_bezrukov', './datasets/youngOld/other/sergei_bodrov_ml', './datasets/youngOld/other/sergei_mironov', './datasets/youngOld/other/sergei_shnurov', './datasets/youngOld/other/sergei_sobyanin', './datasets/youngOld/other/sergei_zverev', './datasets/youngOld/other/sergey_lazarev', './datasets/youngOld/other/sergey_svetlakov', './datasets/youngOld/other/seth_green', './datasets/youngOld/other/seth_macfarlane', './datasets/youngOld/other/shakira', './datasets/youngOld/other/shannen_doherty', './datasets/youngOld/other/shaquille_o_neal', './datasets/youngOld/other/sharon_stone', './datasets/youngOld/other/shay_mitchell', './datasets/youngOld/other/shia_labeouf', './datasets/youngOld/other/sid_vicious', './datasets/youngOld/other/sigourney_weaver', './datasets/youngOld/other/simone_helberg', './datasets/youngOld/other/simon_pegg', './datasets/youngOld/other/slash', './datasets/youngOld/other/snooki', './datasets/youngOld/other/snoop_dogg', './datasets/youngOld/other/sofia_vergara', './datasets/youngOld/other/soleil_moon_frye', './datasets/youngOld/other/sophia_loren', './datasets/youngOld/other/sophie_turner', './datasets/youngOld/other/stanislas_wawrinka', './datasets/youngOld/other/stanley_kubrick', './datasets/youngOld/other/stanley_tucci', './datasets/youngOld/other/stas_mikhailov', './datasets/youngOld/other/stephanie_of_monaco', './datasets/youngOld/other/stephanie_seymour', './datasets/youngOld/other/stephen_king', './datasets/youngOld/other/steve_buscemi', './datasets/youngOld/other/steve_carell', './datasets/youngOld/other/steve_jobs', './datasets/youngOld/other/steven_segal', './datasets/youngOld/other/steven_spielberg', './datasets/youngOld/other/steven_tyler', './datasets/youngOld/other/steven_yeun', './datasets/youngOld/other/steve_o', './datasets/youngOld/other/sting', './datasets/youngOld/other/stockard_channing', './datasets/youngOld/other/susan_buckner', './datasets/youngOld/other/susan_sarandon', './datasets/youngOld/other/suvi_koponen', './datasets/youngOld/other/svetlana_hodchenkova', './datasets/youngOld/other/sylvester_stallone', './datasets/youngOld/other/tami_erin_went', './datasets/youngOld/other/tara_reid', './datasets/youngOld/other/tatum_o_neal', './datasets/youngOld/other/taylor_hill', './datasets/youngOld/other/taylor_lautner', './datasets/youngOld/other/taylor_momsen', './datasets/youngOld/other/taylor_rain', './datasets/youngOld/other/terence_stamp', './datasets/youngOld/other/teri_hatcher', './datasets/youngOld/other/terry_crews', './datasets/youngOld/other/terry_o_quinn', './datasets/youngOld/other/the_game', './datasets/youngOld/other/t_i', './datasets/youngOld/other/tia_carrere', './datasets/youngOld/other/tiffani_amber_thiessen', './datasets/youngOld/other/tim_burton', './datasets/youngOld/other/tim_howard', './datasets/youngOld/other/timoteo', './datasets/youngOld/other/timothy_olyphant', './datasets/youngOld/other/tim_robbins', './datasets/youngOld/other/timur_batrutdinov', './datasets/youngOld/other/timur_rodrigez', './datasets/youngOld/other/tina_fey', './datasets/youngOld/other/tina_kandelaki', './datasets/youngOld/other/tiziano_ferro', './datasets/youngOld/other/tobey_maguire', './datasets/youngOld/other/tom_brady', './datasets/youngOld/other/tom_cruise', './datasets/youngOld/other/tom_felton', './datasets/youngOld/other/tom_hanks', './datasets/youngOld/other/tom_hiddleston', './datasets/youngOld/other/tommy_lee_jones', './datasets/youngOld/other/tom_selleck', './datasets/youngOld/other/tom_welling', './datasets/youngOld/other/toni_garrn', './datasets/youngOld/other/tony_romo', './datasets/youngOld/other/tony_scott', './datasets/youngOld/other/traci_lords', './datasets/youngOld/other/troian_bellasario', './datasets/youngOld/other/tupac_shakur', './datasets/youngOld/other/twiggy', './datasets/youngOld/other/tyra_banks', './datasets/youngOld/other/tyrese_gibson', './datasets/youngOld/other/uma_thurman', './datasets/youngOld/other/una_healy', './datasets/youngOld/other/una_stubbs', './datasets/youngOld/other/usher', './datasets/youngOld/other/valentina_matvienko', './datasets/youngOld/other/valentino_rossi', './datasets/youngOld/other/valeria_kudryavtseva', './datasets/youngOld/other/valerio_scanu', './datasets/youngOld/other/valeriya_novodvorskaya', './datasets/youngOld/other/val_kilmer', './datasets/youngOld/other/vanessa_paradis', './datasets/youngOld/other/vera_breschneva', './datasets/youngOld/other/victoria_beckam', './datasets/youngOld/other/viggo_mortensen', './datasets/youngOld/other/vin_diesel', './datasets/youngOld/other/vladimir_lenin', './datasets/youngOld/other/vladimir_putin', './datasets/youngOld/other/vladimir_sychev', './datasets/youngOld/other/vladimir_turchinsky', './datasets/youngOld/other/vladimir_vdovichenkov', './datasets/youngOld/other/vladimir_vysotsky', './datasets/youngOld/other/vladimir_zhirinovsky', './datasets/youngOld/other/vladislav_galkin', './datasets/youngOld/other/walt_disney', './datasets/youngOld/other/wayne_rooney', './datasets/youngOld/other/wentworth_miller', './datasets/youngOld/other/wesley_sneijder', './datasets/youngOld/other/wesley_snipes', './datasets/youngOld/other/whoopi_goldberg', './datasets/youngOld/other/will_smith', './datasets/youngOld/other/woody_allen', './datasets/youngOld/other/woody_harrelson', './datasets/youngOld/other/yevgeny_leonov', './datasets/youngOld/other/yevgeny_petrosyan', './datasets/youngOld/other/yoko_ono', './datasets/youngOld/other/yulia_tymoshenko', './datasets/youngOld/other/yuri_gagarin', './datasets/youngOld/other/yuri_nikulin', './datasets/youngOld/other/yvonne_strahovski', './datasets/youngOld/other/zac_efron', './datasets/youngOld/other/zac_hanson', './datasets/youngOld/other/zachary_quinto', './datasets/youngOld/other/zach_braff', './datasets/youngOld/other/zach_galifianakis', './datasets/youngOld/other/zhanna_friske', './datasets/youngOld/other/zinedine_zidane', './datasets/youngOld/other/zlatan_ibrahimovic', './datasets/youngOld/other/zoe_saldana', './datasets/youngOld/other/zooey_deschanel']\n"
     ]
    }
   ],
   "source": [
    "import os\n",
    "import shutil\n",
    "# folder path\n",
    "dir_path = r'./datasets/youngOld/other'\n",
    "\n",
    "# list to store files\n",
    "res = []\n",
    "\n",
    "# Iterate directory\n",
    "index = 0\n",
    "for path in os.listdir(dir_path):\n",
    "    full_path = dir_path + '/' + path\n",
    "    \n",
    "    for old_image_path in os.listdir(full_path):\n",
    "         if os.path.isfile(os.path.join(full_path, old_image_path)):\n",
    "                shutil.copyfile(os.path.join(full_path, old_image_path), os.path.join(r'./datasets/youngOld/testA', old_image_path))\n",
    "         \n",
    "         else:\n",
    "                actor_full_path = os.path.join(full_path, old_image_path)\n",
    "                for young_image_path in os.listdir(actor_full_path):\n",
    "                    shutil.copyfile(os.path.join(actor_full_path, young_image_path), os.path.join(r'./datasets/youngOld/testB', young_image_path))\n",
    "            \n",
    "    res.append(full_path)\n",
    "    # check if current path is a file\n",
    "#     if os.path.isfile(os.path.join(dir_path, path)):\n",
    "#         \n",
    "#         os.rename(dir_path + '/' + path, dir_path + '/' + str(index) + '.jpg')\n",
    "#         index = index + 1\n",
    "#         print(dir_path + '/' + path)\n",
    "#         print(dir_path + '/' + str(index) + 'jpg')\n",
    "print(res)"
   ]
  },
  {
   "cell_type": "code",
   "execution_count": null,
   "id": "bccbec36",
   "metadata": {},
   "outputs": [],
   "source": []
  },
  {
   "cell_type": "code",
   "execution_count": 7,
   "id": "9b4867a7",
   "metadata": {},
   "outputs": [
    {
     "name": "stderr",
     "output_type": "stream",
     "text": [
      "2023-05-26 16:02:24.528255: I tensorflow/core/util/port.cc:110] oneDNN custom operations are on. You may see slightly different numerical results due to floating-point round-off errors from different computation orders. To turn them off, set the environment variable `TF_ENABLE_ONEDNN_OPTS=0`.\n",
      "2023-05-26 16:02:24.553066: I tensorflow/core/platform/cpu_feature_guard.cc:182] This TensorFlow binary is optimized to use available CPU instructions in performance-critical operations.\n",
      "To enable the following instructions: AVX2 AVX_VNNI FMA, in other operations, rebuild TensorFlow with the appropriate compiler flags.\n",
      "2023-05-26 16:02:24.991745: W tensorflow/compiler/tf2tensorrt/utils/py_utils.cc:38] TF-TRT Warning: Could not find TensorRT\n"
     ]
    }
   ],
   "source": [
    "from keras_contrib.layers.normalization.instancenormalization import InstanceNormalization"
   ]
  },
  {
   "cell_type": "code",
   "execution_count": 8,
   "id": "389bdddd",
   "metadata": {},
   "outputs": [],
   "source": [
    "#@title\n",
    "import scipy\n",
    "import imageio\n",
    "from glob import glob\n",
    "import numpy as np\n",
    "from skimage import io, transform\n",
    "\n",
    "class DataLoader():\n",
    "    def __init__(self, dataset_name, img_res=(128, 128)):\n",
    "        self.dataset_name = dataset_name\n",
    "        self.img_res = img_res\n",
    "\n",
    "    def load_data(self, domain, batch_size=1):\n",
    "        \n",
    "        print(\"LOADING DATA --------------\")\n",
    "        \n",
    "        path = glob('./datasets/%s/%s/*' % (self.dataset_name, z))\n",
    "\n",
    "        batch_images = np.random.choice(path, size=batch_size)\n",
    "\n",
    "        imgs = []\n",
    "        for img_path in batch_images:\n",
    "            img = self.imread(img_path)\n",
    "            \n",
    "            img = transform.resize(img, self.img_res)\n",
    "\n",
    "            if np.random.random() > 0.5:\n",
    "                img = np.fliplr(img)\n",
    "\n",
    "        imgs = np.array(imgs)/127.5 - 1.\n",
    "\n",
    "        return imgs\n",
    "\n",
    "    def load_batch(self, batch_size=1):\n",
    "        path_A = glob('./datasets/%s/A/*' % (self.dataset_name))\n",
    "        path_B = glob('./datasets/%s/B/*' % (self.dataset_name))\n",
    "\n",
    "        self.n_batches = int(min(len(path_A), len(path_B)) / batch_size)\n",
    "        total_samples = self.n_batches * batch_size\n",
    "\n",
    "        # Sample n_batches * batch_size from each path list so that model sees all\n",
    "        # samples from both domains\n",
    "        path_A = np.random.choice(path_A, total_samples, replace=False)\n",
    "        path_B = np.random.choice(path_B, total_samples, replace=False)\n",
    "\n",
    "        for i in range(self.n_batches-1):\n",
    "            batch_A = path_A[i*batch_size:(i+1)*batch_size]\n",
    "            batch_B = path_B[i*batch_size:(i+1)*batch_size]\n",
    "            imgs_A, imgs_B = [], []\n",
    "            for img_A, img_B in zip(batch_A, batch_B):\n",
    "                img_A = self.imread(img_A)\n",
    "                img_B = self.imread(img_B)\n",
    "\n",
    "                img_A = transform.resize(img_A, self.img_res)\n",
    "                img_B = transform.resize(img_B, self.img_res)\n",
    "\n",
    "                img_A = np.fliplr(img_A)\n",
    "                img_B = np.fliplr(img_B)\n",
    "\n",
    "                imgs_A.append(img_A)\n",
    "                imgs_B.append(img_B)\n",
    "\n",
    "            imgs_A = np.array(imgs_A)/127.5 - 1.\n",
    "            imgs_B = np.array(imgs_B)/127.5 - 1.\n",
    "            \n",
    "            yield imgs_A, imgs_B\n",
    "\n",
    "    def imread(self, path):\n",
    "        return imageio.imread(path, mode='RGB').astype(np.float)\n"
   ]
  },
  {
   "cell_type": "code",
   "execution_count": 9,
   "id": "e3fb5489",
   "metadata": {},
   "outputs": [],
   "source": [
    "\n",
    "from __future__ import print_function, division\n",
    "import scipy\n",
    "from keras.datasets import mnist\n",
    "from keras_contrib.layers.normalization.instancenormalization import InstanceNormalization\n",
    "from keras.layers import Input, Dense, Reshape, Flatten, Dropout, Concatenate\n",
    "from keras.layers import BatchNormalization, Activation, ZeroPadding2D\n",
    "from keras.layers import LeakyReLU\n",
    "from keras.layers.convolutional import UpSampling2D, Conv2D\n",
    "from keras.models import Sequential, Model\n",
    "from keras.optimizers import Adam\n",
    "import datetime\n",
    "import matplotlib.pyplot as plt\n",
    "import sys\n",
    "import numpy as np\n",
    "import os"
   ]
  },
  {
   "cell_type": "code",
   "execution_count": 10,
   "id": "489b4339",
   "metadata": {},
   "outputs": [],
   "source": [
    "class CycleGAN():\n",
    "    def __init__(self):\n",
    "        # Input shape\n",
    "        self.img_rows = 128\n",
    "        self.img_cols = 128\n",
    "        self.channels = 3\n",
    "        self.img_shape = (self.img_rows, self.img_cols, self.channels)\n",
    "\n",
    "        # Configure data loader\n",
    "        self.dataset_name = 'archive'\n",
    "        # Use the DataLoader object to import a preprocessed dataset\n",
    "        self.data_loader = DataLoader(dataset_name=self.dataset_name,\n",
    "                                      img_res=(self.img_rows, self.img_cols))\n",
    "\n",
    "        # Calculate output shape of D (PatchGAN)\n",
    "        patch = int(self.img_rows / 2**4)\n",
    "        self.disc_patch = (patch, patch, 1)\n",
    "\n",
    "        # Number of filters in the first layer of G and D\n",
    "        self.gf = 32\n",
    "        self.df = 64\n",
    "\n",
    "        # Loss weights\n",
    "        self.lambda_cycle = 10.0                    # Cycle-consistency loss\n",
    "        self.lambda_id = 0.9 * self.lambda_cycle    # Identity loss\n",
    "\n",
    "        optimizer = Adam(0.0002, 0.5)\n",
    "        \n",
    "        # Build and compile the discriminators\n",
    "        self.d_A = self.build_discriminator()\n",
    "        self.d_B = self.build_discriminator()\n",
    "        self.d_A.compile(loss='mse',\n",
    "                         optimizer=optimizer,\n",
    "                         metrics=['accuracy'])\n",
    "        self.d_B.compile(loss='mse',\n",
    "                         optimizer=optimizer,\n",
    "                         metrics=['accuracy'])\n",
    "\n",
    "        #-------------------------\n",
    "        # Construct Computational\n",
    "        #   Graph of Generators\n",
    "        #-------------------------\n",
    "\n",
    "        # Build the generators\n",
    "        self.g_AB = self.build_generator()\n",
    "        self.g_BA = self.build_generator()\n",
    "\n",
    "        # Input images from both domains\n",
    "        img_A = Input(shape=self.img_shape)\n",
    "        img_B = Input(shape=self.img_shape)\n",
    "\n",
    "        # Translate images to the other domain\n",
    "        fake_B = self.g_AB(img_A)\n",
    "        fake_A = self.g_BA(img_B)\n",
    "        # Translate images back to original domain\n",
    "        reconstr_A = self.g_BA(fake_B)\n",
    "        reconstr_B = self.g_AB(fake_A)\n",
    "        # Identity mapping of images\n",
    "        img_A_id = self.g_BA(img_A)\n",
    "        img_B_id = self.g_AB(img_B)\n",
    "\n",
    "        # For the combined model we will only train the generators\n",
    "        self.d_A.trainable = False\n",
    "        self.d_B.trainable = False\n",
    "\n",
    "        # Discriminators determines validity of translated images\n",
    "        valid_A = self.d_A(fake_A)\n",
    "        valid_B = self.d_B(fake_B)\n",
    "\n",
    "        # Combined model trains generators to fool discriminators\n",
    "        self.combined = Model(inputs=[img_A, img_B],\n",
    "                              outputs=[valid_A, valid_B,\n",
    "                                       reconstr_A, reconstr_B,\n",
    "                                       img_A_id, img_B_id])\n",
    "        self.combined.compile(loss=['mse', 'mse',\n",
    "                                    'mae', 'mae',\n",
    "                                    'mae', 'mae'],\n",
    "                              loss_weights=[1, 1,\n",
    "                                            self.lambda_cycle, self.lambda_cycle,\n",
    "                                            self.lambda_id, self.lambda_id],\n",
    "                              optimizer=optimizer)\n"
   ]
  },
  {
   "cell_type": "code",
   "execution_count": 11,
   "id": "c9e1296d",
   "metadata": {},
   "outputs": [],
   "source": [
    "class CycleGAN(CycleGAN):\n",
    "    @staticmethod\n",
    "    def conv2d(layer_input, filters, f_size=4, normalization=True):\n",
    "        \"\"\"Discriminator layer\"\"\"\n",
    "        d = Conv2D(filters, kernel_size=f_size,\n",
    "                   strides=2, padding='same')(layer_input)\n",
    "        d = LeakyReLU(alpha=0.2)(d)\n",
    "        if normalization:\n",
    "            d = InstanceNormalization()(d)\n",
    "        return d\n",
    "      \n",
    "    @staticmethod\n",
    "    def deconv2d(layer_input, skip_input, filters, f_size=4, dropout_rate=0):\n",
    "        \"\"\"Layers used during upsampling\"\"\"\n",
    "        u = UpSampling2D(size=2)(layer_input)\n",
    "        u = Conv2D(filters, kernel_size=f_size, strides=1, padding='same', activation='relu')(u)\n",
    "        if dropout_rate:\n",
    "            u = Dropout(dropout_rate)(u)\n",
    "            u = InstanceNormalization()(u)\n",
    "            u = Concatenate()([u, skip_input])\n",
    "        return u\n"
   ]
  },
  {
   "cell_type": "code",
   "execution_count": 12,
   "id": "673ece50",
   "metadata": {},
   "outputs": [],
   "source": [
    "class CycleGAN(CycleGAN):\n",
    "    def build_generator(self):\n",
    "        \"\"\"U-Net Generator\"\"\"\n",
    "        # Image input\n",
    "        d0 = Input(shape=self.img_shape)\n",
    "\n",
    "        # Downsampling\n",
    "        d1 = self.conv2d(d0, self.gf)\n",
    "        d2 = self.conv2d(d1, self.gf * 2)\n",
    "        d3 = self.conv2d(d2, self.gf * 4)\n",
    "        d4 = self.conv2d(d3, self.gf * 8)\n",
    "\n",
    "        # Upsampling\n",
    "        u1 = self.deconv2d(d4, d3, self.gf * 4)\n",
    "        u2 = self.deconv2d(u1, d2, self.gf * 2)\n",
    "        u3 = self.deconv2d(u2, d1, self.gf)\n",
    "\n",
    "        u4 = UpSampling2D(size=2)(u3)\n",
    "        output_img = Conv2D(self.channels, kernel_size=4,\n",
    "                            strides=1, padding='same', activation='tanh')(u4)\n",
    "\n",
    "        return Model(d0, output_img)\n",
    "     "
   ]
  },
  {
   "cell_type": "code",
   "execution_count": 13,
   "id": "4e1da789",
   "metadata": {},
   "outputs": [],
   "source": [
    "class CycleGAN(CycleGAN):\n",
    "    def build_discriminator(self):\n",
    "        img = Input(shape=self.img_shape)\n",
    "\n",
    "        d1 = self.conv2d(img, self.df, normalization=False)\n",
    "        d2 = self.conv2d(d1, self.df * 2)\n",
    "        d3 = self.conv2d(d2, self.df * 4)\n",
    "        d4 = self.conv2d(d3, self.df * 8)\n",
    "\n",
    "        validity = Conv2D(1, kernel_size=4, strides=1, padding='same')(d4)\n",
    "\n",
    "        return Model(img, validity)"
   ]
  },
  {
   "cell_type": "code",
   "execution_count": 14,
   "id": "a34575b6",
   "metadata": {},
   "outputs": [],
   "source": [
    "class CycleGAN(CycleGAN):\n",
    "      def sample_images(self, epoch, batch_i):\n",
    "        r, c = 2, 3\n",
    "\n",
    "        imgs_A = self.data_loader.load_data(domain=\"A\", batch_size=1)\n",
    "        imgs_B = self.data_loader.load_data(domain=\"B\", batch_size=1)\n",
    "        \n",
    "        # Translate images to the other domain\n",
    "        fake_B = self.g_AB.predict(imgs_A)\n",
    "        fake_A = self.g_BA.predict(imgs_B)\n",
    "        # Translate back to original domain\n",
    "        reconstr_A = self.g_BA.predict(fake_B)\n",
    "        reconstr_B = self.g_AB.predict(fake_A)\n",
    "\n",
    "        gen_imgs = np.concatenate([imgs_A, fake_B, reconstr_A, imgs_B, fake_A, reconstr_B])\n",
    "\n",
    "        # Rescale images 0 - 1\n",
    "        gen_imgs = 0.5 * gen_imgs + 0.5\n",
    "\n",
    "        titles = ['Original', 'Translated', 'Reconstructed']\n",
    "        fig, axs = plt.subplots(r, c)\n",
    "        cnt = 0\n",
    "        for i in range(r):\n",
    "            for j in range(c):\n",
    "                axs[i,j].imshow(gen_imgs[cnt])\n",
    "                axs[i, j].set_title(titles[j])\n",
    "                axs[i,j].axis('off')\n",
    "                cnt += 1\n",
    "        fig.savefig(\"datasets/%s/results/%d_%d.png\" % (self.dataset_name, epoch, batch_i))\n",
    "        plt.show()\n",
    "     "
   ]
  },
  {
   "cell_type": "code",
   "execution_count": 15,
   "id": "098b8ff0",
   "metadata": {},
   "outputs": [],
   "source": [
    "class CycleGAN(CycleGAN):\n",
    "      def train(self, epochs, batch_size=1, sample_interval=50):\n",
    "        # Adversarial loss ground truths\n",
    "        valid = np.ones((batch_size,) + self.disc_patch)\n",
    "        fake = np.zeros((batch_size,) + self.disc_patch)\n",
    "\n",
    "\n",
    "        for epoch in range(epochs):\n",
    "            for batch_i, (imgs_A, imgs_B) in enumerate(self.data_loader.load_batch(batch_size)):\n",
    "\n",
    "                # ----------------------\n",
    "                #  Train Discriminators\n",
    "                # ----------------------\n",
    "                \n",
    "                print(imgs_A.shape)\n",
    "                print(imgs_B.shape)\n",
    "\n",
    "                # Translate images to opposite domain\n",
    "                fake_B = self.g_AB.predict(imgs_A)\n",
    "                fake_A = self.g_BA.predict(imgs_B)\n",
    "\n",
    "                # Train the discriminators (original images = real / translated = Fake)\n",
    "                dA_loss_real = self.d_A.train_on_batch(imgs_A, valid)\n",
    "                dA_loss_fake = self.d_A.train_on_batch(fake_A, fake)\n",
    "                dA_loss = 0.5 * np.add(dA_loss_real, dA_loss_fake)\n",
    "\n",
    "                dB_loss_real = self.d_B.train_on_batch(imgs_B, valid)\n",
    "                dB_loss_fake = self.d_B.train_on_batch(fake_B, fake)\n",
    "                dB_loss = 0.5 * np.add(dB_loss_real, dB_loss_fake)\n",
    "\n",
    "                # Total discriminator loss\n",
    "                d_loss = 0.5 * np.add(dA_loss, dB_loss)\n",
    "\n",
    "                # ------------------\n",
    "                #  Train Generators\n",
    "                # ------------------\n",
    "\n",
    "                # Train the generators\n",
    "                g_loss = self.combined.train_on_batch([imgs_A, imgs_B],\n",
    "                                                      [valid, valid,\n",
    "                                                       imgs_A, imgs_B,\n",
    "                                                       imgs_A, imgs_B])\n",
    "                # If at save interval => plot the generated image samples\n",
    "#                 if batch_i % sample_interval == 0:\n",
    "#                     self.sample_images(epoch, batch_i)"
   ]
  },
  {
   "cell_type": "code",
   "execution_count": 16,
   "id": "aa83b404",
   "metadata": {},
   "outputs": [
    {
     "name": "stderr",
     "output_type": "stream",
     "text": [
      "2023-05-26 16:02:31.598727: I tensorflow/compiler/xla/stream_executor/cuda/cuda_gpu_executor.cc:996] successful NUMA node read from SysFS had negative value (-1), but there must be at least one NUMA node, so returning NUMA node zero. See more at https://github.com/torvalds/linux/blob/v6.0/Documentation/ABI/testing/sysfs-bus-pci#L344-L355\n",
      "2023-05-26 16:02:31.613737: I tensorflow/compiler/xla/stream_executor/cuda/cuda_gpu_executor.cc:996] successful NUMA node read from SysFS had negative value (-1), but there must be at least one NUMA node, so returning NUMA node zero. See more at https://github.com/torvalds/linux/blob/v6.0/Documentation/ABI/testing/sysfs-bus-pci#L344-L355\n",
      "2023-05-26 16:02:31.613885: I tensorflow/compiler/xla/stream_executor/cuda/cuda_gpu_executor.cc:996] successful NUMA node read from SysFS had negative value (-1), but there must be at least one NUMA node, so returning NUMA node zero. See more at https://github.com/torvalds/linux/blob/v6.0/Documentation/ABI/testing/sysfs-bus-pci#L344-L355\n",
      "2023-05-26 16:02:31.614983: I tensorflow/compiler/xla/stream_executor/cuda/cuda_gpu_executor.cc:996] successful NUMA node read from SysFS had negative value (-1), but there must be at least one NUMA node, so returning NUMA node zero. See more at https://github.com/torvalds/linux/blob/v6.0/Documentation/ABI/testing/sysfs-bus-pci#L344-L355\n",
      "2023-05-26 16:02:31.615107: I tensorflow/compiler/xla/stream_executor/cuda/cuda_gpu_executor.cc:996] successful NUMA node read from SysFS had negative value (-1), but there must be at least one NUMA node, so returning NUMA node zero. See more at https://github.com/torvalds/linux/blob/v6.0/Documentation/ABI/testing/sysfs-bus-pci#L344-L355\n",
      "2023-05-26 16:02:31.615185: I tensorflow/compiler/xla/stream_executor/cuda/cuda_gpu_executor.cc:996] successful NUMA node read from SysFS had negative value (-1), but there must be at least one NUMA node, so returning NUMA node zero. See more at https://github.com/torvalds/linux/blob/v6.0/Documentation/ABI/testing/sysfs-bus-pci#L344-L355\n",
      "2023-05-26 16:02:31.993419: I tensorflow/compiler/xla/stream_executor/cuda/cuda_gpu_executor.cc:996] successful NUMA node read from SysFS had negative value (-1), but there must be at least one NUMA node, so returning NUMA node zero. See more at https://github.com/torvalds/linux/blob/v6.0/Documentation/ABI/testing/sysfs-bus-pci#L344-L355\n",
      "2023-05-26 16:02:31.993539: I tensorflow/compiler/xla/stream_executor/cuda/cuda_gpu_executor.cc:996] successful NUMA node read from SysFS had negative value (-1), but there must be at least one NUMA node, so returning NUMA node zero. See more at https://github.com/torvalds/linux/blob/v6.0/Documentation/ABI/testing/sysfs-bus-pci#L344-L355\n",
      "2023-05-26 16:02:31.993601: I tensorflow/compiler/xla/stream_executor/cuda/cuda_gpu_executor.cc:996] successful NUMA node read from SysFS had negative value (-1), but there must be at least one NUMA node, so returning NUMA node zero. See more at https://github.com/torvalds/linux/blob/v6.0/Documentation/ABI/testing/sysfs-bus-pci#L344-L355\n",
      "2023-05-26 16:02:31.993656: I tensorflow/core/common_runtime/gpu/gpu_device.cc:1635] Created device /job:localhost/replica:0/task:0/device:GPU:0 with 196 MB memory:  -> device: 0, name: NVIDIA GeForce RTX 3080 Ti Laptop GPU, pci bus id: 0000:01:00.0, compute capability: 8.6\n",
      "/tmp/ipykernel_7705/1937140593.py:69: DeprecationWarning: Starting with ImageIO v3 the behavior of this function will switch to that of iio.v3.imread. To keep the current behavior (and make this warning disappear) use `import imageio.v2 as imageio` or call `imageio.v2.imread` directly.\n",
      "  return imageio.imread(path, mode='RGB').astype(np.float)\n",
      "/tmp/ipykernel_7705/1937140593.py:69: DeprecationWarning: `np.float` is a deprecated alias for the builtin `float`. To silence this warning, use `float` by itself. Doing this will not modify any behavior and is safe. If you specifically wanted the numpy scalar type, use `np.float64` here.\n",
      "Deprecated in NumPy 1.20; for more details and guidance: https://numpy.org/devdocs/release/1.20.0-notes.html#deprecations\n",
      "  return imageio.imread(path, mode='RGB').astype(np.float)\n"
     ]
    },
    {
     "name": "stdout",
     "output_type": "stream",
     "text": [
      "(64, 128, 128, 3)\n",
      "(64, 128, 128, 3)\n"
     ]
    },
    {
     "name": "stderr",
     "output_type": "stream",
     "text": [
      "2023-05-26 16:02:34.956788: E tensorflow/compiler/xla/stream_executor/cuda/cuda_dnn.cc:429] Could not create cudnn handle: CUDNN_STATUS_NOT_INITIALIZED\n",
      "2023-05-26 16:02:34.956852: E tensorflow/compiler/xla/stream_executor/cuda/cuda_dnn.cc:438] Possibly insufficient driver version: 530.41.3\n",
      "2023-05-26 16:02:34.956888: W tensorflow/core/framework/op_kernel.cc:1830] OP_REQUIRES failed at conv_ops.cc:1068 : UNIMPLEMENTED: DNN library is not found.\n",
      "2023-05-26 16:02:34.956907: I tensorflow/core/common_runtime/executor.cc:1197] [/job:localhost/replica:0/task:0/device:GPU:0] (DEBUG INFO) Executor start aborting (this does not indicate an error and you can ignore this message): UNIMPLEMENTED: DNN library is not found.\n",
      "\t [[{{node model_2/conv2d_10/Conv2D}}]]\n"
     ]
    },
    {
     "ename": "UnimplementedError",
     "evalue": "Graph execution error:\n\nDetected at node 'model_2/conv2d_10/Conv2D' defined at (most recent call last):\n    File \"<frozen runpy>\", line 198, in _run_module_as_main\n    File \"<frozen runpy>\", line 88, in _run_code\n    File \"/home/sudokit/Documents/College/Engineering/S6/BIAI/GANs/venv/lib64/python3.11/site-packages/ipykernel_launcher.py\", line 17, in <module>\n      app.launch_new_instance()\n    File \"/home/sudokit/Documents/College/Engineering/S6/BIAI/GANs/venv/lib64/python3.11/site-packages/traitlets/config/application.py\", line 1043, in launch_instance\n      app.start()\n    File \"/home/sudokit/Documents/College/Engineering/S6/BIAI/GANs/venv/lib64/python3.11/site-packages/ipykernel/kernelapp.py\", line 725, in start\n      self.io_loop.start()\n    File \"/home/sudokit/Documents/College/Engineering/S6/BIAI/GANs/venv/lib64/python3.11/site-packages/tornado/platform/asyncio.py\", line 195, in start\n      self.asyncio_loop.run_forever()\n    File \"/usr/lib64/python3.11/asyncio/base_events.py\", line 607, in run_forever\n      self._run_once()\n    File \"/usr/lib64/python3.11/asyncio/base_events.py\", line 1922, in _run_once\n      handle._run()\n    File \"/usr/lib64/python3.11/asyncio/events.py\", line 80, in _run\n      self._context.run(self._callback, *self._args)\n    File \"/home/sudokit/Documents/College/Engineering/S6/BIAI/GANs/venv/lib64/python3.11/site-packages/ipykernel/kernelbase.py\", line 513, in dispatch_queue\n      await self.process_one()\n    File \"/home/sudokit/Documents/College/Engineering/S6/BIAI/GANs/venv/lib64/python3.11/site-packages/ipykernel/kernelbase.py\", line 502, in process_one\n      await dispatch(*args)\n    File \"/home/sudokit/Documents/College/Engineering/S6/BIAI/GANs/venv/lib64/python3.11/site-packages/ipykernel/kernelbase.py\", line 409, in dispatch_shell\n      await result\n    File \"/home/sudokit/Documents/College/Engineering/S6/BIAI/GANs/venv/lib64/python3.11/site-packages/ipykernel/kernelbase.py\", line 729, in execute_request\n      reply_content = await reply_content\n    File \"/home/sudokit/Documents/College/Engineering/S6/BIAI/GANs/venv/lib64/python3.11/site-packages/ipykernel/ipkernel.py\", line 422, in do_execute\n      res = shell.run_cell(\n    File \"/home/sudokit/Documents/College/Engineering/S6/BIAI/GANs/venv/lib64/python3.11/site-packages/ipykernel/zmqshell.py\", line 540, in run_cell\n      return super().run_cell(*args, **kwargs)\n    File \"/home/sudokit/Documents/College/Engineering/S6/BIAI/GANs/venv/lib64/python3.11/site-packages/IPython/core/interactiveshell.py\", line 3009, in run_cell\n      result = self._run_cell(\n    File \"/home/sudokit/Documents/College/Engineering/S6/BIAI/GANs/venv/lib64/python3.11/site-packages/IPython/core/interactiveshell.py\", line 3064, in _run_cell\n      result = runner(coro)\n    File \"/home/sudokit/Documents/College/Engineering/S6/BIAI/GANs/venv/lib64/python3.11/site-packages/IPython/core/async_helpers.py\", line 129, in _pseudo_sync_runner\n      coro.send(None)\n    File \"/home/sudokit/Documents/College/Engineering/S6/BIAI/GANs/venv/lib64/python3.11/site-packages/IPython/core/interactiveshell.py\", line 3269, in run_cell_async\n      has_raised = await self.run_ast_nodes(code_ast.body, cell_name,\n    File \"/home/sudokit/Documents/College/Engineering/S6/BIAI/GANs/venv/lib64/python3.11/site-packages/IPython/core/interactiveshell.py\", line 3448, in run_ast_nodes\n      if await self.run_code(code, result, async_=asy):\n    File \"/home/sudokit/Documents/College/Engineering/S6/BIAI/GANs/venv/lib64/python3.11/site-packages/IPython/core/interactiveshell.py\", line 3508, in run_code\n      exec(code_obj, self.user_global_ns, self.user_ns)\n    File \"/tmp/ipykernel_7705/765875614.py\", line 2, in <module>\n      cycle_gan.train(epochs=100, batch_size=64, sample_interval=10)\n    File \"/tmp/ipykernel_7705/3949875849.py\", line 19, in train\n      fake_B = self.g_AB.predict(imgs_A)\n    File \"/home/sudokit/Documents/College/Engineering/S6/BIAI/GANs/venv/lib64/python3.11/site-packages/keras/utils/traceback_utils.py\", line 65, in error_handler\n      return fn(*args, **kwargs)\n    File \"/home/sudokit/Documents/College/Engineering/S6/BIAI/GANs/venv/lib64/python3.11/site-packages/keras/engine/training.py\", line 2382, in predict\n      tmp_batch_outputs = self.predict_function(iterator)\n    File \"/home/sudokit/Documents/College/Engineering/S6/BIAI/GANs/venv/lib64/python3.11/site-packages/keras/engine/training.py\", line 2169, in predict_function\n      return step_function(self, iterator)\n    File \"/home/sudokit/Documents/College/Engineering/S6/BIAI/GANs/venv/lib64/python3.11/site-packages/keras/engine/training.py\", line 2155, in step_function\n      outputs = model.distribute_strategy.run(run_step, args=(data,))\n    File \"/home/sudokit/Documents/College/Engineering/S6/BIAI/GANs/venv/lib64/python3.11/site-packages/keras/engine/training.py\", line 2143, in run_step\n      outputs = model.predict_step(data)\n    File \"/home/sudokit/Documents/College/Engineering/S6/BIAI/GANs/venv/lib64/python3.11/site-packages/keras/engine/training.py\", line 2111, in predict_step\n      return self(x, training=False)\n    File \"/home/sudokit/Documents/College/Engineering/S6/BIAI/GANs/venv/lib64/python3.11/site-packages/keras/utils/traceback_utils.py\", line 65, in error_handler\n      return fn(*args, **kwargs)\n    File \"/home/sudokit/Documents/College/Engineering/S6/BIAI/GANs/venv/lib64/python3.11/site-packages/keras/engine/training.py\", line 558, in __call__\n      return super().__call__(*args, **kwargs)\n    File \"/home/sudokit/Documents/College/Engineering/S6/BIAI/GANs/venv/lib64/python3.11/site-packages/keras/utils/traceback_utils.py\", line 65, in error_handler\n      return fn(*args, **kwargs)\n    File \"/home/sudokit/Documents/College/Engineering/S6/BIAI/GANs/venv/lib64/python3.11/site-packages/keras/engine/base_layer.py\", line 1145, in __call__\n      outputs = call_fn(inputs, *args, **kwargs)\n    File \"/home/sudokit/Documents/College/Engineering/S6/BIAI/GANs/venv/lib64/python3.11/site-packages/keras/utils/traceback_utils.py\", line 96, in error_handler\n      return fn(*args, **kwargs)\n    File \"/home/sudokit/Documents/College/Engineering/S6/BIAI/GANs/venv/lib64/python3.11/site-packages/keras/engine/functional.py\", line 512, in call\n      return self._run_internal_graph(inputs, training=training, mask=mask)\n    File \"/home/sudokit/Documents/College/Engineering/S6/BIAI/GANs/venv/lib64/python3.11/site-packages/keras/engine/functional.py\", line 669, in _run_internal_graph\n      outputs = node.layer(*args, **kwargs)\n    File \"/home/sudokit/Documents/College/Engineering/S6/BIAI/GANs/venv/lib64/python3.11/site-packages/keras/utils/traceback_utils.py\", line 65, in error_handler\n      return fn(*args, **kwargs)\n    File \"/home/sudokit/Documents/College/Engineering/S6/BIAI/GANs/venv/lib64/python3.11/site-packages/keras/engine/base_layer.py\", line 1145, in __call__\n      outputs = call_fn(inputs, *args, **kwargs)\n    File \"/home/sudokit/Documents/College/Engineering/S6/BIAI/GANs/venv/lib64/python3.11/site-packages/keras/utils/traceback_utils.py\", line 96, in error_handler\n      return fn(*args, **kwargs)\n    File \"/home/sudokit/Documents/College/Engineering/S6/BIAI/GANs/venv/lib64/python3.11/site-packages/keras/layers/convolutional/base_conv.py\", line 290, in call\n      outputs = self.convolution_op(inputs, self.kernel)\n    File \"/home/sudokit/Documents/College/Engineering/S6/BIAI/GANs/venv/lib64/python3.11/site-packages/keras/layers/convolutional/base_conv.py\", line 262, in convolution_op\n      return tf.nn.convolution(\nNode: 'model_2/conv2d_10/Conv2D'\nDNN library is not found.\n\t [[{{node model_2/conv2d_10/Conv2D}}]] [Op:__inference_predict_function_2792]",
     "output_type": "error",
     "traceback": [
      "\u001b[0;31m---------------------------------------------------------------------------\u001b[0m",
      "\u001b[0;31mUnimplementedError\u001b[0m                        Traceback (most recent call last)",
      "Cell \u001b[0;32mIn[16], line 2\u001b[0m\n\u001b[1;32m      1\u001b[0m cycle_gan \u001b[38;5;241m=\u001b[39m CycleGAN()\n\u001b[0;32m----> 2\u001b[0m \u001b[43mcycle_gan\u001b[49m\u001b[38;5;241;43m.\u001b[39;49m\u001b[43mtrain\u001b[49m\u001b[43m(\u001b[49m\u001b[43mepochs\u001b[49m\u001b[38;5;241;43m=\u001b[39;49m\u001b[38;5;241;43m100\u001b[39;49m\u001b[43m,\u001b[49m\u001b[43m \u001b[49m\u001b[43mbatch_size\u001b[49m\u001b[38;5;241;43m=\u001b[39;49m\u001b[38;5;241;43m64\u001b[39;49m\u001b[43m,\u001b[49m\u001b[43m \u001b[49m\u001b[43msample_interval\u001b[49m\u001b[38;5;241;43m=\u001b[39;49m\u001b[38;5;241;43m10\u001b[39;49m\u001b[43m)\u001b[49m\n",
      "Cell \u001b[0;32mIn[15], line 19\u001b[0m, in \u001b[0;36mCycleGAN.train\u001b[0;34m(self, epochs, batch_size, sample_interval)\u001b[0m\n\u001b[1;32m     16\u001b[0m \u001b[38;5;28mprint\u001b[39m(imgs_B\u001b[38;5;241m.\u001b[39mshape)\n\u001b[1;32m     18\u001b[0m \u001b[38;5;66;03m# Translate images to opposite domain\u001b[39;00m\n\u001b[0;32m---> 19\u001b[0m fake_B \u001b[38;5;241m=\u001b[39m \u001b[38;5;28;43mself\u001b[39;49m\u001b[38;5;241;43m.\u001b[39;49m\u001b[43mg_AB\u001b[49m\u001b[38;5;241;43m.\u001b[39;49m\u001b[43mpredict\u001b[49m\u001b[43m(\u001b[49m\u001b[43mimgs_A\u001b[49m\u001b[43m)\u001b[49m\n\u001b[1;32m     20\u001b[0m fake_A \u001b[38;5;241m=\u001b[39m \u001b[38;5;28mself\u001b[39m\u001b[38;5;241m.\u001b[39mg_BA\u001b[38;5;241m.\u001b[39mpredict(imgs_B)\n\u001b[1;32m     22\u001b[0m \u001b[38;5;66;03m# Train the discriminators (original images = real / translated = Fake)\u001b[39;00m\n",
      "File \u001b[0;32m~/Documents/College/Engineering/S6/BIAI/GANs/venv/lib64/python3.11/site-packages/keras/utils/traceback_utils.py:70\u001b[0m, in \u001b[0;36mfilter_traceback.<locals>.error_handler\u001b[0;34m(*args, **kwargs)\u001b[0m\n\u001b[1;32m     67\u001b[0m     filtered_tb \u001b[38;5;241m=\u001b[39m _process_traceback_frames(e\u001b[38;5;241m.\u001b[39m__traceback__)\n\u001b[1;32m     68\u001b[0m     \u001b[38;5;66;03m# To get the full stack trace, call:\u001b[39;00m\n\u001b[1;32m     69\u001b[0m     \u001b[38;5;66;03m# `tf.debugging.disable_traceback_filtering()`\u001b[39;00m\n\u001b[0;32m---> 70\u001b[0m     \u001b[38;5;28;01mraise\u001b[39;00m e\u001b[38;5;241m.\u001b[39mwith_traceback(filtered_tb) \u001b[38;5;28;01mfrom\u001b[39;00m \u001b[38;5;28;01mNone\u001b[39;00m\n\u001b[1;32m     71\u001b[0m \u001b[38;5;28;01mfinally\u001b[39;00m:\n\u001b[1;32m     72\u001b[0m     \u001b[38;5;28;01mdel\u001b[39;00m filtered_tb\n",
      "File \u001b[0;32m~/Documents/College/Engineering/S6/BIAI/GANs/venv/lib64/python3.11/site-packages/tensorflow/python/eager/execute.py:52\u001b[0m, in \u001b[0;36mquick_execute\u001b[0;34m(op_name, num_outputs, inputs, attrs, ctx, name)\u001b[0m\n\u001b[1;32m     50\u001b[0m \u001b[38;5;28;01mtry\u001b[39;00m:\n\u001b[1;32m     51\u001b[0m   ctx\u001b[38;5;241m.\u001b[39mensure_initialized()\n\u001b[0;32m---> 52\u001b[0m   tensors \u001b[38;5;241m=\u001b[39m pywrap_tfe\u001b[38;5;241m.\u001b[39mTFE_Py_Execute(ctx\u001b[38;5;241m.\u001b[39m_handle, device_name, op_name,\n\u001b[1;32m     53\u001b[0m                                       inputs, attrs, num_outputs)\n\u001b[1;32m     54\u001b[0m \u001b[38;5;28;01mexcept\u001b[39;00m core\u001b[38;5;241m.\u001b[39m_NotOkStatusException \u001b[38;5;28;01mas\u001b[39;00m e:\n\u001b[1;32m     55\u001b[0m   \u001b[38;5;28;01mif\u001b[39;00m name \u001b[38;5;129;01mis\u001b[39;00m \u001b[38;5;129;01mnot\u001b[39;00m \u001b[38;5;28;01mNone\u001b[39;00m:\n",
      "\u001b[0;31mUnimplementedError\u001b[0m: Graph execution error:\n\nDetected at node 'model_2/conv2d_10/Conv2D' defined at (most recent call last):\n    File \"<frozen runpy>\", line 198, in _run_module_as_main\n    File \"<frozen runpy>\", line 88, in _run_code\n    File \"/home/sudokit/Documents/College/Engineering/S6/BIAI/GANs/venv/lib64/python3.11/site-packages/ipykernel_launcher.py\", line 17, in <module>\n      app.launch_new_instance()\n    File \"/home/sudokit/Documents/College/Engineering/S6/BIAI/GANs/venv/lib64/python3.11/site-packages/traitlets/config/application.py\", line 1043, in launch_instance\n      app.start()\n    File \"/home/sudokit/Documents/College/Engineering/S6/BIAI/GANs/venv/lib64/python3.11/site-packages/ipykernel/kernelapp.py\", line 725, in start\n      self.io_loop.start()\n    File \"/home/sudokit/Documents/College/Engineering/S6/BIAI/GANs/venv/lib64/python3.11/site-packages/tornado/platform/asyncio.py\", line 195, in start\n      self.asyncio_loop.run_forever()\n    File \"/usr/lib64/python3.11/asyncio/base_events.py\", line 607, in run_forever\n      self._run_once()\n    File \"/usr/lib64/python3.11/asyncio/base_events.py\", line 1922, in _run_once\n      handle._run()\n    File \"/usr/lib64/python3.11/asyncio/events.py\", line 80, in _run\n      self._context.run(self._callback, *self._args)\n    File \"/home/sudokit/Documents/College/Engineering/S6/BIAI/GANs/venv/lib64/python3.11/site-packages/ipykernel/kernelbase.py\", line 513, in dispatch_queue\n      await self.process_one()\n    File \"/home/sudokit/Documents/College/Engineering/S6/BIAI/GANs/venv/lib64/python3.11/site-packages/ipykernel/kernelbase.py\", line 502, in process_one\n      await dispatch(*args)\n    File \"/home/sudokit/Documents/College/Engineering/S6/BIAI/GANs/venv/lib64/python3.11/site-packages/ipykernel/kernelbase.py\", line 409, in dispatch_shell\n      await result\n    File \"/home/sudokit/Documents/College/Engineering/S6/BIAI/GANs/venv/lib64/python3.11/site-packages/ipykernel/kernelbase.py\", line 729, in execute_request\n      reply_content = await reply_content\n    File \"/home/sudokit/Documents/College/Engineering/S6/BIAI/GANs/venv/lib64/python3.11/site-packages/ipykernel/ipkernel.py\", line 422, in do_execute\n      res = shell.run_cell(\n    File \"/home/sudokit/Documents/College/Engineering/S6/BIAI/GANs/venv/lib64/python3.11/site-packages/ipykernel/zmqshell.py\", line 540, in run_cell\n      return super().run_cell(*args, **kwargs)\n    File \"/home/sudokit/Documents/College/Engineering/S6/BIAI/GANs/venv/lib64/python3.11/site-packages/IPython/core/interactiveshell.py\", line 3009, in run_cell\n      result = self._run_cell(\n    File \"/home/sudokit/Documents/College/Engineering/S6/BIAI/GANs/venv/lib64/python3.11/site-packages/IPython/core/interactiveshell.py\", line 3064, in _run_cell\n      result = runner(coro)\n    File \"/home/sudokit/Documents/College/Engineering/S6/BIAI/GANs/venv/lib64/python3.11/site-packages/IPython/core/async_helpers.py\", line 129, in _pseudo_sync_runner\n      coro.send(None)\n    File \"/home/sudokit/Documents/College/Engineering/S6/BIAI/GANs/venv/lib64/python3.11/site-packages/IPython/core/interactiveshell.py\", line 3269, in run_cell_async\n      has_raised = await self.run_ast_nodes(code_ast.body, cell_name,\n    File \"/home/sudokit/Documents/College/Engineering/S6/BIAI/GANs/venv/lib64/python3.11/site-packages/IPython/core/interactiveshell.py\", line 3448, in run_ast_nodes\n      if await self.run_code(code, result, async_=asy):\n    File \"/home/sudokit/Documents/College/Engineering/S6/BIAI/GANs/venv/lib64/python3.11/site-packages/IPython/core/interactiveshell.py\", line 3508, in run_code\n      exec(code_obj, self.user_global_ns, self.user_ns)\n    File \"/tmp/ipykernel_7705/765875614.py\", line 2, in <module>\n      cycle_gan.train(epochs=100, batch_size=64, sample_interval=10)\n    File \"/tmp/ipykernel_7705/3949875849.py\", line 19, in train\n      fake_B = self.g_AB.predict(imgs_A)\n    File \"/home/sudokit/Documents/College/Engineering/S6/BIAI/GANs/venv/lib64/python3.11/site-packages/keras/utils/traceback_utils.py\", line 65, in error_handler\n      return fn(*args, **kwargs)\n    File \"/home/sudokit/Documents/College/Engineering/S6/BIAI/GANs/venv/lib64/python3.11/site-packages/keras/engine/training.py\", line 2382, in predict\n      tmp_batch_outputs = self.predict_function(iterator)\n    File \"/home/sudokit/Documents/College/Engineering/S6/BIAI/GANs/venv/lib64/python3.11/site-packages/keras/engine/training.py\", line 2169, in predict_function\n      return step_function(self, iterator)\n    File \"/home/sudokit/Documents/College/Engineering/S6/BIAI/GANs/venv/lib64/python3.11/site-packages/keras/engine/training.py\", line 2155, in step_function\n      outputs = model.distribute_strategy.run(run_step, args=(data,))\n    File \"/home/sudokit/Documents/College/Engineering/S6/BIAI/GANs/venv/lib64/python3.11/site-packages/keras/engine/training.py\", line 2143, in run_step\n      outputs = model.predict_step(data)\n    File \"/home/sudokit/Documents/College/Engineering/S6/BIAI/GANs/venv/lib64/python3.11/site-packages/keras/engine/training.py\", line 2111, in predict_step\n      return self(x, training=False)\n    File \"/home/sudokit/Documents/College/Engineering/S6/BIAI/GANs/venv/lib64/python3.11/site-packages/keras/utils/traceback_utils.py\", line 65, in error_handler\n      return fn(*args, **kwargs)\n    File \"/home/sudokit/Documents/College/Engineering/S6/BIAI/GANs/venv/lib64/python3.11/site-packages/keras/engine/training.py\", line 558, in __call__\n      return super().__call__(*args, **kwargs)\n    File \"/home/sudokit/Documents/College/Engineering/S6/BIAI/GANs/venv/lib64/python3.11/site-packages/keras/utils/traceback_utils.py\", line 65, in error_handler\n      return fn(*args, **kwargs)\n    File \"/home/sudokit/Documents/College/Engineering/S6/BIAI/GANs/venv/lib64/python3.11/site-packages/keras/engine/base_layer.py\", line 1145, in __call__\n      outputs = call_fn(inputs, *args, **kwargs)\n    File \"/home/sudokit/Documents/College/Engineering/S6/BIAI/GANs/venv/lib64/python3.11/site-packages/keras/utils/traceback_utils.py\", line 96, in error_handler\n      return fn(*args, **kwargs)\n    File \"/home/sudokit/Documents/College/Engineering/S6/BIAI/GANs/venv/lib64/python3.11/site-packages/keras/engine/functional.py\", line 512, in call\n      return self._run_internal_graph(inputs, training=training, mask=mask)\n    File \"/home/sudokit/Documents/College/Engineering/S6/BIAI/GANs/venv/lib64/python3.11/site-packages/keras/engine/functional.py\", line 669, in _run_internal_graph\n      outputs = node.layer(*args, **kwargs)\n    File \"/home/sudokit/Documents/College/Engineering/S6/BIAI/GANs/venv/lib64/python3.11/site-packages/keras/utils/traceback_utils.py\", line 65, in error_handler\n      return fn(*args, **kwargs)\n    File \"/home/sudokit/Documents/College/Engineering/S6/BIAI/GANs/venv/lib64/python3.11/site-packages/keras/engine/base_layer.py\", line 1145, in __call__\n      outputs = call_fn(inputs, *args, **kwargs)\n    File \"/home/sudokit/Documents/College/Engineering/S6/BIAI/GANs/venv/lib64/python3.11/site-packages/keras/utils/traceback_utils.py\", line 96, in error_handler\n      return fn(*args, **kwargs)\n    File \"/home/sudokit/Documents/College/Engineering/S6/BIAI/GANs/venv/lib64/python3.11/site-packages/keras/layers/convolutional/base_conv.py\", line 290, in call\n      outputs = self.convolution_op(inputs, self.kernel)\n    File \"/home/sudokit/Documents/College/Engineering/S6/BIAI/GANs/venv/lib64/python3.11/site-packages/keras/layers/convolutional/base_conv.py\", line 262, in convolution_op\n      return tf.nn.convolution(\nNode: 'model_2/conv2d_10/Conv2D'\nDNN library is not found.\n\t [[{{node model_2/conv2d_10/Conv2D}}]] [Op:__inference_predict_function_2792]"
     ]
    }
   ],
   "source": [
    "cycle_gan = CycleGAN()\n",
    "cycle_gan.train(epochs=100, batch_size=64, sample_interval=10)"
   ]
  },
  {
   "cell_type": "code",
   "execution_count": null,
   "id": "2d324267",
   "metadata": {},
   "outputs": [],
   "source": []
  }
 ],
 "metadata": {
  "kernelspec": {
   "display_name": "Python 3 (ipykernel)",
   "language": "python",
   "name": "python3"
  },
  "language_info": {
   "codemirror_mode": {
    "name": "ipython",
    "version": 3
   },
   "file_extension": ".py",
   "mimetype": "text/x-python",
   "name": "python",
   "nbconvert_exporter": "python",
   "pygments_lexer": "ipython3",
   "version": "3.11.3"
  }
 },
 "nbformat": 4,
 "nbformat_minor": 5
}
